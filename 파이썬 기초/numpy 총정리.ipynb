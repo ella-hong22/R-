{
 "cells": [
  {
   "cell_type": "code",
   "execution_count": 1,
   "metadata": {},
   "outputs": [
    {
     "name": "stdout",
     "output_type": "stream",
     "text": [
      "<class 'list'>\n"
     ]
    }
   ],
   "source": [
    "import numpy as np\n",
    "\n",
    "list1 =[1,2,3]\n",
    "print(type(list1))"
   ]
  },
  {
   "cell_type": "code",
   "execution_count": 2,
   "metadata": {},
   "outputs": [],
   "source": [
    "array1 = np.array(list1)"
   ]
  },
  {
   "cell_type": "code",
   "execution_count": 3,
   "metadata": {},
   "outputs": [
    {
     "name": "stdout",
     "output_type": "stream",
     "text": [
      "<class 'numpy.ndarray'>\n",
      "[1 2 3] int32\n"
     ]
    }
   ],
   "source": [
    "print(type(array1))\n",
    "print(array1, array1.dtype)"
   ]
  },
  {
   "cell_type": "code",
   "execution_count": 4,
   "metadata": {},
   "outputs": [
    {
     "name": "stdout",
     "output_type": "stream",
     "text": [
      "<class 'list'>\n",
      "<class 'numpy.ndarray'>\n",
      "[1. 2. 3.] float64\n"
     ]
    }
   ],
   "source": [
    "list2 = [1,2,3.0]\n",
    "print(type(list2))\n",
    "array2 = np.array(list2)\n",
    "print(type(array2))\n",
    "print(array2, array2.dtype)"
   ]
  },
  {
   "cell_type": "code",
   "execution_count": 5,
   "metadata": {},
   "outputs": [
    {
     "data": {
      "text/plain": [
       "array([1., 2., 3.])"
      ]
     },
     "execution_count": 5,
     "metadata": {},
     "output_type": "execute_result"
    }
   ],
   "source": [
    "array2"
   ]
  },
  {
   "cell_type": "code",
   "execution_count": 6,
   "metadata": {},
   "outputs": [
    {
     "name": "stdout",
     "output_type": "stream",
     "text": [
      "['1' '2' 'test'] <U11\n"
     ]
    }
   ],
   "source": [
    "list3 = [1,2,'test']\n",
    "array3 = np.array(list3)\n",
    "print(array3, array3.dtype)\n"
   ]
  },
  {
   "cell_type": "code",
   "execution_count": 14,
   "metadata": {},
   "outputs": [
    {
     "name": "stdout",
     "output_type": "stream",
     "text": [
      "[1. 2. 3.] float64\n",
      "[1.1 2.1 3.1] float64\n"
     ]
    }
   ],
   "source": [
    "#02-astype.py\n",
    "\n",
    "array_int1 = np.array([1,2,3])\n",
    "array_float1 = array_int1.astype('float64')\n",
    "print(array_float1, array_float1.dtype)\n",
    "\n",
    "array_float2 = np.array([1.1 ,2.1,3.1])\n",
    "array_int2 =array_float2.astype('int32')\n",
    "print(array_float2, array_float2.dtype)\n",
    "\n"
   ]
  },
  {
   "cell_type": "code",
   "execution_count": 20,
   "metadata": {},
   "outputs": [
    {
     "name": "stdout",
     "output_type": "stream",
     "text": [
      "[0 1 2 3 4 5 6 7 8 9]\n",
      "int32 (10,)\n",
      "[[0 0]\n",
      " [0 0]\n",
      " [0 0]]\n",
      "int32 (3, 2)\n",
      "[[1. 1.]\n",
      " [1. 1.]\n",
      " [1. 1.]]\n",
      "float64 (3, 2)\n",
      "array1:\n",
      " [0 1 2 3 4 5 6 7 8 9]\n",
      "arrayA2:\n",
      " [[0 1]\n",
      " [2 3]\n",
      " [4 5]\n",
      " [6 7]\n",
      " [8 9]]\n",
      "arrayB1 shape : (2, 5)\n",
      "arrayB2 shape : (5, 2)\n",
      "arrayC1: \n",
      " [[[0 1]\n",
      "  [2 3]]\n",
      "\n",
      " [[4 5]\n",
      "  [6 7]]]\n",
      "arrayC1: \n",
      " [[[0, 1], [2, 3]], [[4, 5], [6, 7]]]\n"
     ]
    }
   ],
   "source": [
    "#03-reshape.py\n",
    "\n",
    "\n",
    "#ndarray를 편리하게 생성하기 - arange, zeros, ones\n",
    "#주로 테스트용으로 데이터 만들거나 대규모의 데이터를 일괄적으로\n",
    "#초기화해야 할 경우에 사용된다.\n",
    "\n",
    "#arange : 파이썬 표준 함수인 range()와 유사한 기능\n",
    "sequence_array  = np.arange(10)\n",
    "print(sequence_array)\n",
    "print(sequence_array.dtype, sequence_array.shape)\n",
    "\n",
    "zero_array = np.zeros((3,2), dtype = 'int32')\n",
    "print(zero_array)\n",
    "print(zero_array.dtype, zero_array.shape)\n",
    "\n",
    "one_array = np.ones((3,2))\n",
    "print(one_array)\n",
    "print(one_array.dtype, one_array.shape)\n",
    "\n",
    "#reshape : ndarray 의차원과 크기를 변경 \n",
    "\n",
    "array1 = np.arange(10)\n",
    "print('array1:\\n' , array1)\n",
    "\n",
    "arrayA2 = array1.reshape(5,2)\n",
    "print('arrayA2:\\n', arrayA2)\n",
    "\n",
    "#변경이 불가능하면 에러 발생\n",
    "# arrayA3 = array1.reshape(4,3)\n",
    "\n",
    "\n",
    "arrayB1 = array1.reshape(-1,5)\n",
    "print('arrayB1 shape :' , arrayB1.shape)\n",
    "\n",
    "arrayB2 = array1.reshape(5,-1)\n",
    "print('arrayB2 shape :' , arrayB2.shape)\n",
    "\n",
    "#3차원 ndarray\n",
    "array2 = np.arange(8)\n",
    "arrayC1 = array2.reshape((2,2,2))\n",
    "print('arrayC1: \\n', arrayC1)\n",
    "print('arrayC1: \\n' , arrayC1.tolist())\n",
    "\n",
    "#3차원 ndarray를 2차원 ndaaray로 변화\n"
   ]
  },
  {
   "cell_type": "code",
   "execution_count": 24,
   "metadata": {},
   "outputs": [
    {
     "name": "stdout",
     "output_type": "stream",
     "text": [
      "arrayC1: \n",
      " [[[0 1]\n",
      "  [2 3]]\n",
      "\n",
      " [[4 5]\n",
      "  [6 7]]]\n",
      "arrayC1: \n",
      " [[[0, 1], [2, 3]], [[4, 5], [6, 7]]]\n",
      "arrayC2: \n",
      " [[0], [1], [2], [3], [4], [5], [6], [7]]\n",
      "arrayC2 shape: (8, 1)\n",
      "array2 : \n",
      " [0 1 2 3 4 5 6 7]\n",
      "array2: \n",
      " (8,)\n",
      "arrayC3 : \n",
      " [[0], [1], [2], [3], [4], [5], [6], [7]]\n",
      "arrayC3 shape: (8, 1)\n"
     ]
    }
   ],
   "source": [
    "\n",
    "#3차원 ndarray\n",
    "array2 = np.arange(8)\n",
    "arrayC1 = array2.reshape((2,2,2))\n",
    "print('arrayC1: \\n', arrayC1)\n",
    "print('arrayC1: \\n' , arrayC1.tolist())\n",
    "\n",
    "#3차원 ndarray를 2차원 ndaaray로 변화\n",
    "arrayC2 = arrayC1.reshape(-1,1)\n",
    "print('arrayC2: \\n', arrayC2.tolist())\n",
    "print('arrayC2 shape:', arrayC2.shape )\n",
    "\n",
    "#1차원 ndarray를 2차원 ndarray로 변환\n",
    "arrayC3 = array2.reshape(-1, 1)\n",
    "print('array2 : \\n', array2)\n",
    "print('array2: \\n', array2.shape)\n",
    "print('arrayC3 : \\n', arrayC3.tolist())\n",
    "print('arrayC3 shape:', arrayC3.shape)"
   ]
  },
  {
   "cell_type": "code",
   "execution_count": 29,
   "metadata": {},
   "outputs": [
    {
     "name": "stdout",
     "output_type": "stream",
     "text": [
      "array1: [1 2 3 4 5 6 7 8 9]\n",
      "value: 3\n",
      "<class 'numpy.int32'>\n",
      "맨 뒤의 값: 9\n",
      "맨 뒤에서 두번째 값: 8\n",
      "array1: [9 2 3 4 5 6 7 8 0]\n",
      "[[1 2 3]\n",
      " [4 5 6]\n",
      " [7 8 9]] (3, 3) 2\n",
      "index 가리키느 값:  1\n"
     ]
    }
   ],
   "source": [
    "#04-indexing.py\n",
    "\n",
    "#인덱싱 - 데이터 세트 선택하기\n",
    "\n",
    "#1에서 부터 9까지 1차원 ndarray 생성\n",
    "array1 = np.arange(start =1, stop =10)\n",
    "print('array1:', array1)\n",
    "#index는 0부터 시작하므로 array1[2]는 3번째 index 위치의 데이터 값을 의미\n",
    "value = array1[2]\n",
    "print('value:', value)\n",
    "\n",
    "print(type(value))\n",
    "\n",
    "print('맨 뒤의 값:' , array1[-1])\n",
    "print('맨 뒤에서 두번째 값:', array1[-2])\n",
    "\n",
    "#ndarray 의 데이터값 수정\n",
    "array1[0] =9\n",
    "array1[8] =0\n",
    "print('array1:', array1)\n",
    "\n",
    "array1d = np.arange(start =1, stop =10)\n",
    "array2d = array1d.reshape(3,3)\n",
    "print(array2d, array2d.shape, array2d.ndim)\n",
    "\n",
    "print('index 가리키느 값: ', array2d[0,0])"
   ]
  },
  {
   "cell_type": "code",
   "execution_count": 41,
   "metadata": {},
   "outputs": [
    {
     "name": "stdout",
     "output_type": "stream",
     "text": [
      "[1 2 3]\n",
      "<class 'numpy.ndarray'>\n",
      "<class 'numpy.ndarray'>\n",
      "[1 2 3]\n",
      "[4 5 6 7 8 9]\n",
      "[1 2 3 4 5 6 7 8 9]\n",
      "array2d:\n",
      " [[1 2 3]\n",
      " [4 5 6]\n",
      " [7 8 9]]\n",
      "array2d[0:2, 0:2] \n",
      " [[1 2]\n",
      " [4 5]]\n",
      "array2d[0:2, 0:2] \n",
      " [[4 5 6]\n",
      " [7 8 9]]\n",
      "array2d[0:2, 0:2] \n",
      " [[4 5 6]\n",
      " [7 8 9]]\n",
      "[[1 2 3]\n",
      " [4 5 6]\n",
      " [7 8 9]]\n",
      "[[2 3]\n",
      " [5 6]]\n",
      "[1 4]\n",
      "1 [1 2 3]\n",
      "[4 5 6]\n",
      "array2d[0] shape: (3,)\n",
      "array2d[1] shape: (3,)\n"
     ]
    }
   ],
   "source": [
    "#slice.py\n",
    "\n",
    "array1 = np.arange(start=1, stop=10)\n",
    "array2 = array1[0:3]\n",
    "print(array2)\n",
    "print(type(array1))\n",
    "print(type(array2))\n",
    "\n",
    "array3 = array1[:3]\n",
    "print(array3)\n",
    "\n",
    "array4 = array1[3:]\n",
    "print(array4)\n",
    "\n",
    "array5 = array1[:]\n",
    "print(array5)\n",
    "\n",
    "array1d = np.arange(start=1 , stop=10)\n",
    "array2d = array1d.reshape(3,3)\n",
    "print('array2d:\\n', array2d)\n",
    "\n",
    "print('array2d[0:2, 0:2] \\n', array2d[0:2, 0:2])\n",
    "print('array2d[0:2, 0:2] \\n', array2d[1:3, 0:3])\n",
    "print('array2d[0:2, 0:2] \\n', array2d[1:3, :])\n",
    "print(array2d[:,:])\n",
    "print( array2d[:2, 1:])\n",
    "print( array2d[:2, 0])\n",
    "\n",
    "print(array2d[0])\n",
    "print(array2d[1])\n",
    "\n",
    "print('array2d[0] shape:', array2d[0].shape)\n",
    "print('array2d[1] shape:', array2d[1].shape)"
   ]
  },
  {
   "cell_type": "code",
   "execution_count": 42,
   "metadata": {},
   "outputs": [
    {
     "name": "stdout",
     "output_type": "stream",
     "text": [
      "[1 2 3]\n",
      "[4 5 6]\n"
     ]
    }
   ],
   "source": [
    "print(array2d[0])\n",
    "print(array2d[1])"
   ]
  },
  {
   "cell_type": "code",
   "execution_count": 50,
   "metadata": {},
   "outputs": [
    {
     "name": "stdout",
     "output_type": "stream",
     "text": [
      "[[1 2 3]\n",
      " [4 5 6]\n",
      " [7 8 9]]\n",
      "array2d[[0,1],2] =>  [3, 6]\n",
      "array2d[[0,1],2] =>  [[1, 2], [4, 5]]\n",
      "array2d[[0,1],2] =>  [[1, 2, 3], [4, 5, 6]]\n",
      "array1d > 5 불린 인덱싱 : [6 7 8 9]\n",
      "[False False False False False  True  True  True  True]\n",
      "[6 7 8 9]\n",
      "일반 인덱스로 필터링 결과 :  [6 7 8 9]\n"
     ]
    }
   ],
   "source": [
    "import numpy as np\n",
    "\n",
    "array1d = np.arange(start=1, stop =10)\n",
    "array2d = array1d.reshape(3,3)\n",
    "print(array2d)\n",
    "arrayA1 = array2d[[0,1],2]\n",
    "print('array2d[[0,1],2] => ', arrayA1.tolist())\n",
    "\n",
    "arrayA1 = array2d[[0,1],0:2]\n",
    "print('array2d[[0,1],2] => ', arrayA1.tolist())\n",
    "\n",
    "arrayA3 = array2d[[0,1]]\n",
    "print('array2d[[0,1],2] => ', arrayA3.tolist())\n",
    "\n",
    "#boolean indexing\n",
    "\n",
    "# [ ] 안에 array1d > 5 boolean indexing 을 적용\n",
    "arrayB1 = array1d[array1d >5]\n",
    "print('array1d > 5 불린 인덱싱 :', arrayB1)\n",
    "\n",
    "array1d > 5\n",
    "\n",
    "boolean_indexed = np.array([False, False,False, False, False,\n",
    "                           True, True, True, True])\n",
    "print(boolean_indexed)\n",
    "arrayB2 = array1d[boolean_indexed]\n",
    "print( arrayB2)\n",
    "\n",
    "indexes = np.array([5,6,7,8])\n",
    "arrayB3 = array1d[ indexes ]\n",
    "print('일반 인덱스로 필터링 결과 : ', arrayB3)"
   ]
  },
  {
   "cell_type": "code",
   "execution_count": 6,
   "metadata": {},
   "outputs": [
    {
     "name": "stdout",
     "output_type": "stream",
     "text": [
      "행렬 [3 1 9 5]\n",
      "[3 1 9 5]\n",
      "[1 3 5 9]\n",
      "[1 3 5 9]\n",
      "None\n",
      "[9 5 3 1]\n",
      "[[ 7  1]\n",
      " [ 8 12]]\n",
      "[[ 8 12]\n",
      " [ 1  7]]\n"
     ]
    }
   ],
   "source": [
    "#sort\n",
    "import numpy as np\n",
    "org_array = np.array([3,1,9,5])\n",
    "print('행렬', org_array)\n",
    "\n",
    "#np.sort() 정렬 - 원본 유지\n",
    "sort_array1 = np.sort(org_array)\n",
    "print(org_array)\n",
    "print(sort_array1)\n",
    "\n",
    "#ndarray.sort() 정렬 - 원본 변경 \n",
    "sort_array2 = org_array.sort()\n",
    "print(org_array)\n",
    "print(sort_array2)\n",
    "\n",
    "#내림차순 정렬 \n",
    "sort_array1_desc = np.sort(org_array)[::-1]\n",
    "print(sort_array1_desc)\n",
    "\n",
    "\n",
    "#------------------------------------------------------------------------------------------\n",
    "\n",
    "array2d = np.array([[8,12],\n",
    "                   [7,1]])\n",
    "\n",
    "#로우 방향으로 정렬\n",
    "sort_array2d_axis0 = np.sort(array2d, axis =0)\n",
    "print(sort_array2d_axis0)\n",
    "\n",
    "#컬럼 방향으로 정렬\n",
    "sort_array2d_axis1 = np.sort(array2d, axis =1)\n",
    "print(sort_array2d_axis1)"
   ]
  },
  {
   "cell_type": "code",
   "execution_count": 11,
   "metadata": {},
   "outputs": [
    {
     "name": "stdout",
     "output_type": "stream",
     "text": [
      "<class 'numpy.ndarray'>\n",
      "행렬 정렬시 원본 행렬의 인덱스 :  [1 0 3 2]\n",
      "행렬 내림차순 정렬 시 원본 인덱스: [2 3 0 1]\n",
      "성정 오름차순 정렬 시 score_array의 인덱스: \n",
      " [0 2 4 1 3]\n",
      "성적 오름차순으로 이름 출력 ['John' 'Sarah' 'Samuel' 'Mike' 'Kate']\n"
     ]
    }
   ],
   "source": [
    "#argsort\n",
    "\n",
    "org_array  = np.array([3,1,9,5])\n",
    "\n",
    "sort_indices = np.argsort(org_array)\n",
    "print(type(sort_indices))\n",
    "print('행렬 정렬시 원본 행렬의 인덱스 : ', sort_indices)\n",
    "\n",
    "sort_indieces_desc = np.argsort(org_array)[::-1] \n",
    "print('행렬 내림차순 정렬 시 원본 인덱스:' , sort_indieces_desc)\n",
    "\n",
    "name_array  = np.array(['John', 'Mike', 'Sarah','Kate','Samuel'])\n",
    "score_array = np.array([78,95,84,98,88])\n",
    "\n",
    "#아주 유용한 코드임 \n",
    "sort_indices_asc = np.argsort(score_array)\n",
    "print('성정 오름차순 정렬 시 score_array의 인덱스: \\n', sort_indices_asc)\n",
    "print('성적 오름차순으로 이름 출력', name_array[sort_indices_asc]) "
   ]
  },
  {
   "cell_type": "code",
   "execution_count": 16,
   "metadata": {},
   "outputs": [
    {
     "name": "stdout",
     "output_type": "stream",
     "text": [
      "[[1. 2. 3.]\n",
      " [4. 5. 6.]\n",
      " [1. 1. 1.]\n",
      " [1. 1. 1.]]\n",
      "[[1. 2. 3. 1. 1. 1.]\n",
      " [4. 5. 6. 1. 1. 1.]]\n",
      "------------\n",
      "[[2. 3. 4.]\n",
      " [5. 6. 7.]]\n",
      "[[0. 1. 2.]\n",
      " [3. 4. 5.]]\n",
      "[[1. 2. 3.]\n",
      " [4. 5. 6.]]\n",
      "[[1. 2. 3.]\n",
      " [4. 5. 6.]]\n",
      "[[3 4 5]\n",
      " [6 7 8]]\n",
      "[[ 2  4  6]\n",
      " [ 8 10 12]]\n",
      "(2, 3)\n",
      "(1, 3)\n",
      "[[2 4 6]\n",
      " [5 7 9]]\n",
      "(1, 3)\n"
     ]
    }
   ],
   "source": [
    "#Operation.py\n",
    "\n",
    "A = np.array([[1,2,3],\n",
    "             [4,5,6]])\n",
    "\n",
    "B = np.ones((2,3))\n",
    "\n",
    "#배열 연결 - Row\n",
    "#결과의 데이터 타입은 큰 쪽에 일치한다. \n",
    "R1 = np.r_[A,B]\n",
    "print(R1)\n",
    "\n",
    "#배열 연결 - col\n",
    "R2 = np.c_[A,B]\n",
    "print(R2)\n",
    "\n",
    "#---------------------\n",
    "#형태가 같은 ndarray 끼리는 사칙 연산을 적용할 수 있다. \n",
    "#데이터 타입은 역시 큰 쪽에 일치한다. \n",
    "print('------------')\n",
    "R3 = A + B\n",
    "print(R3)\n",
    "\n",
    "R4 = A - B\n",
    "print(R4)\n",
    "\n",
    "R4 = A * B\n",
    "print(R4)\n",
    "\n",
    "R4 = A / B\n",
    "print(R4)\n",
    "\n",
    "R4 = A + 2 \n",
    "print(R4)\n",
    "\n",
    "R4 = A * 2\n",
    "print(R4)\n",
    "\n",
    "#사칙 연산에서는 배열 크기가 완전히 일치하지 않아도 한 쪽 차원의 길이가 \n",
    "#1 또는 0이면 같은 값에 따라 자동으로 크기를 확장한 후 계산 한다. \n",
    "\n",
    "C = np.array([[1,2,3]])\n",
    "print(A.shape)\n",
    "print(C.shape)\n",
    "\n",
    "#C 차원 임시로 확장 후 더하기\n",
    "R9 = A + C\n",
    "print(R9)\n",
    "print(C.shape)"
   ]
  },
  {
   "cell_type": "code",
   "execution_count": null,
   "metadata": {},
   "outputs": [],
   "source": []
  }
 ],
 "metadata": {
  "kernelspec": {
   "display_name": "Python 3",
   "language": "python",
   "name": "python3"
  },
  "language_info": {
   "codemirror_mode": {
    "name": "ipython",
    "version": 3
   },
   "file_extension": ".py",
   "mimetype": "text/x-python",
   "name": "python",
   "nbconvert_exporter": "python",
   "pygments_lexer": "ipython3",
   "version": "3.7.1"
  }
 },
 "nbformat": 4,
 "nbformat_minor": 4
}

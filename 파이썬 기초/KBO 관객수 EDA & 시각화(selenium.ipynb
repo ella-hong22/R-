{
 "cells": [
  {
   "cell_type": "code",
   "execution_count": 24,
   "metadata": {},
   "outputs": [],
   "source": [
    "from selenium import webdriver\n",
    "import time\n",
    "from bs4 import BeautifulSoup\n",
    "\n",
    "# Chrome의 경우 chromedriver의 위치를 지정해준다.\n",
    "driver = webdriver.Chrome('E:/Ella/RStudio/DataAnalysis/프로젝트/chromedriver.exe')\n",
    "# 암묵적으로 웹 자원 로드를 위해 3초까지 기다려 준다.\n",
    "#driver.implicitly_wait(3)\n",
    "time.sleep(3)\n",
    "\n",
    "# selenium으로 url에 접근\n",
    "driver.get('https://www.koreabaseball.com/History/Crowd/GraphDaily.aspx')\n"
   ]
  },
  {
   "cell_type": "code",
   "execution_count": 25,
   "metadata": {},
   "outputs": [],
   "source": [
    "# 아이디/비밀번호를 input 에 입력(네이버 등 로그인이 필요한 경우 사용)\n",
    "# driver.find_element_by_name('id').send_keys('user_id')\n",
    "# driver.find_element_by_name('pw').send_keys('mypassword1234')\n",
    "\n",
    "# select 선택\n",
    "driver.find_element_by_id('cphContents_cphContents_cphContents_ddlSeason').send_keys('2019')\n",
    "\n",
    "# 버튼 클릭\n",
    "driver.find_element_by_id('cphContents_cphContents_cphContents_btnSearch').click()\n",
    "\n",
    "time.sleep(3)\n",
    "\n",
    "# 페이지 소스 가져오기\n",
    "html = driver.page_source\n",
    "soup = BeautifulSoup(html, 'html.parser')\n",
    "\n",
    "# driver.quit()"
   ]
  },
  {
   "cell_type": "code",
   "execution_count": 26,
   "metadata": {},
   "outputs": [],
   "source": [
    "#class 이름이 tData인 table을 가져온다.\n",
    "tdata = soup.find('table', {'class':'tData'})\n",
    "#table에서 tbody를 찾습니다.\n",
    "series = tdata.find('tbody')\n",
    "\n",
    "#객체가 아닌 string 형태로 담아둔다.\n",
    "kbdata_spec = series.text"
   ]
  },
  {
   "cell_type": "code",
   "execution_count": 30,
   "metadata": {},
   "outputs": [],
   "source": [
    "#===============================================\n",
    "#DataFarame으로 변경 \n",
    "\n",
    "#tr 태그를 찾음 (tr 데이터를 여러개 찾아 리스트로 만들때 )\n",
    "table_rows = tdata.find_all('tr')\n",
    "\n",
    "#res 라는 list에 row별로 담아둔다. \n",
    "res = []\n",
    "for tr in table_rows:\n",
    "    td = tr.find_all('td')\n",
    "    row = [tr.text.strip() for tr in td if tr.text.strip()]\n",
    "    if row:\n",
    "        res.append(row)\n",
    "        \n",
    " "
   ]
  },
  {
   "cell_type": "code",
   "execution_count": 67,
   "metadata": {},
   "outputs": [
    {
     "data": {
      "text/html": [
       "<div>\n",
       "<style scoped>\n",
       "    .dataframe tbody tr th:only-of-type {\n",
       "        vertical-align: middle;\n",
       "    }\n",
       "\n",
       "    .dataframe tbody tr th {\n",
       "        vertical-align: top;\n",
       "    }\n",
       "\n",
       "    .dataframe thead th {\n",
       "        text-align: right;\n",
       "    }\n",
       "</style>\n",
       "<table border=\"1\" class=\"dataframe\">\n",
       "  <thead>\n",
       "    <tr style=\"text-align: right;\">\n",
       "      <th></th>\n",
       "      <th>date</th>\n",
       "      <th>day</th>\n",
       "      <th>team_1</th>\n",
       "      <th>team_2</th>\n",
       "      <th>place</th>\n",
       "      <th>number</th>\n",
       "    </tr>\n",
       "  </thead>\n",
       "  <tbody>\n",
       "    <tr>\n",
       "      <th>0</th>\n",
       "      <td>경기수 : 720 \\n경기평균 : 10,119 \\n경기 합계 : 7,286,008</td>\n",
       "      <td>None</td>\n",
       "      <td>None</td>\n",
       "      <td>None</td>\n",
       "      <td>None</td>\n",
       "      <td>None</td>\n",
       "    </tr>\n",
       "    <tr>\n",
       "      <th>1</th>\n",
       "      <td>2019/03/23</td>\n",
       "      <td>토</td>\n",
       "      <td>두산</td>\n",
       "      <td>한화</td>\n",
       "      <td>잠실</td>\n",
       "      <td>25,000</td>\n",
       "    </tr>\n",
       "    <tr>\n",
       "      <th>2</th>\n",
       "      <td>2019/03/23</td>\n",
       "      <td>토</td>\n",
       "      <td>SK</td>\n",
       "      <td>KT</td>\n",
       "      <td>문학</td>\n",
       "      <td>21,909</td>\n",
       "    </tr>\n",
       "    <tr>\n",
       "      <th>3</th>\n",
       "      <td>2019/03/23</td>\n",
       "      <td>토</td>\n",
       "      <td>KIA</td>\n",
       "      <td>LG</td>\n",
       "      <td>광주</td>\n",
       "      <td>20,500</td>\n",
       "    </tr>\n",
       "    <tr>\n",
       "      <th>4</th>\n",
       "      <td>2019/03/23</td>\n",
       "      <td>토</td>\n",
       "      <td>NC</td>\n",
       "      <td>삼성</td>\n",
       "      <td>창원</td>\n",
       "      <td>22,112</td>\n",
       "    </tr>\n",
       "  </tbody>\n",
       "</table>\n",
       "</div>"
      ],
      "text/plain": [
       "                                            date   day team_1 team_2 place  \\\n",
       "0  경기수 : 720 \\n경기평균 : 10,119 \\n경기 합계 : 7,286,008  None   None   None  None   \n",
       "1                                     2019/03/23     토     두산     한화    잠실   \n",
       "2                                     2019/03/23     토     SK     KT    문학   \n",
       "3                                     2019/03/23     토    KIA     LG    광주   \n",
       "4                                     2019/03/23     토     NC     삼성    창원   \n",
       "\n",
       "   number  \n",
       "0    None  \n",
       "1  25,000  \n",
       "2  21,909  \n",
       "3  20,500  \n",
       "4  22,112  "
      ]
     },
     "execution_count": 67,
     "metadata": {},
     "output_type": "execute_result"
    }
   ],
   "source": [
    "import pandas as pd \n",
    "df = pd.DataFrame(res,columns = [\"date\", \"day\", \"team_1\",\"team_2\",\"place\",\"number\"])       \n",
    "df.head()\n",
    "\n"
   ]
  },
  {
   "cell_type": "code",
   "execution_count": 68,
   "metadata": {},
   "outputs": [],
   "source": [
    "#첫번째 열 지우기 \n",
    "df = df.drop([0], axis=0)"
   ]
  },
  {
   "cell_type": "code",
   "execution_count": 69,
   "metadata": {},
   "outputs": [
    {
     "name": "stdout",
     "output_type": "stream",
     "text": [
      "<class 'pandas.core.frame.DataFrame'>\n",
      "Int64Index: 720 entries, 1 to 720\n",
      "Data columns (total 6 columns):\n",
      " #   Column  Non-Null Count  Dtype \n",
      "---  ------  --------------  ----- \n",
      " 0   date    720 non-null    object\n",
      " 1   day     720 non-null    object\n",
      " 2   team_1  720 non-null    object\n",
      " 3   team_2  720 non-null    object\n",
      " 4   place   720 non-null    object\n",
      " 5   number  720 non-null    object\n",
      "dtypes: object(6)\n",
      "memory usage: 39.4+ KB\n"
     ]
    }
   ],
   "source": [
    "df.head()\n",
    "df.info()"
   ]
  },
  {
   "cell_type": "code",
   "execution_count": 70,
   "metadata": {},
   "outputs": [
    {
     "name": "stdout",
     "output_type": "stream",
     "text": [
      "<class 'pandas.core.frame.DataFrame'>\n",
      "Int64Index: 720 entries, 1 to 720\n",
      "Data columns (total 6 columns):\n",
      " #   Column  Non-Null Count  Dtype         \n",
      "---  ------  --------------  -----         \n",
      " 0   date    720 non-null    datetime64[ns]\n",
      " 1   day     720 non-null    object        \n",
      " 2   team_1  720 non-null    object        \n",
      " 3   team_2  720 non-null    object        \n",
      " 4   place   720 non-null    object        \n",
      " 5   number  720 non-null    int32         \n",
      "dtypes: datetime64[ns](1), int32(1), object(4)\n",
      "memory usage: 36.6+ KB\n"
     ]
    }
   ],
   "source": [
    "#데이터 타입 변경 \n",
    "\n",
    "df['number'] = df['number'].str.strip().str.replace(',','').astype(int)\n",
    "df['date'] = pd.to_datetime(df['date'])\n",
    "df.info()"
   ]
  },
  {
   "cell_type": "code",
   "execution_count": 71,
   "metadata": {},
   "outputs": [
    {
     "data": {
      "text/html": [
       "<div>\n",
       "<style scoped>\n",
       "    .dataframe tbody tr th:only-of-type {\n",
       "        vertical-align: middle;\n",
       "    }\n",
       "\n",
       "    .dataframe tbody tr th {\n",
       "        vertical-align: top;\n",
       "    }\n",
       "\n",
       "    .dataframe thead th {\n",
       "        text-align: right;\n",
       "    }\n",
       "</style>\n",
       "<table border=\"1\" class=\"dataframe\">\n",
       "  <thead>\n",
       "    <tr style=\"text-align: right;\">\n",
       "      <th></th>\n",
       "      <th>date</th>\n",
       "      <th>day</th>\n",
       "      <th>team_1</th>\n",
       "      <th>team_2</th>\n",
       "      <th>place</th>\n",
       "      <th>number</th>\n",
       "    </tr>\n",
       "  </thead>\n",
       "  <tbody>\n",
       "    <tr>\n",
       "      <th>1</th>\n",
       "      <td>2019-03-23</td>\n",
       "      <td>토</td>\n",
       "      <td>두산</td>\n",
       "      <td>한화</td>\n",
       "      <td>잠실</td>\n",
       "      <td>25000</td>\n",
       "    </tr>\n",
       "    <tr>\n",
       "      <th>2</th>\n",
       "      <td>2019-03-23</td>\n",
       "      <td>토</td>\n",
       "      <td>SK</td>\n",
       "      <td>KT</td>\n",
       "      <td>문학</td>\n",
       "      <td>21909</td>\n",
       "    </tr>\n",
       "    <tr>\n",
       "      <th>3</th>\n",
       "      <td>2019-03-23</td>\n",
       "      <td>토</td>\n",
       "      <td>KIA</td>\n",
       "      <td>LG</td>\n",
       "      <td>광주</td>\n",
       "      <td>20500</td>\n",
       "    </tr>\n",
       "    <tr>\n",
       "      <th>4</th>\n",
       "      <td>2019-03-23</td>\n",
       "      <td>토</td>\n",
       "      <td>NC</td>\n",
       "      <td>삼성</td>\n",
       "      <td>창원</td>\n",
       "      <td>22112</td>\n",
       "    </tr>\n",
       "    <tr>\n",
       "      <th>5</th>\n",
       "      <td>2019-03-23</td>\n",
       "      <td>토</td>\n",
       "      <td>롯데</td>\n",
       "      <td>키움</td>\n",
       "      <td>사직</td>\n",
       "      <td>24500</td>\n",
       "    </tr>\n",
       "  </tbody>\n",
       "</table>\n",
       "</div>"
      ],
      "text/plain": [
       "        date day team_1 team_2 place  number\n",
       "1 2019-03-23   토     두산     한화    잠실   25000\n",
       "2 2019-03-23   토     SK     KT    문학   21909\n",
       "3 2019-03-23   토    KIA     LG    광주   20500\n",
       "4 2019-03-23   토     NC     삼성    창원   22112\n",
       "5 2019-03-23   토     롯데     키움    사직   24500"
      ]
     },
     "execution_count": 71,
     "metadata": {},
     "output_type": "execute_result"
    }
   ],
   "source": [
    "df.head()"
   ]
  },
  {
   "cell_type": "code",
   "execution_count": 72,
   "metadata": {},
   "outputs": [],
   "source": [
    "#관객 숫자 분포도 확인 \n",
    "# 1.월별 관객수 확인\n",
    "\n",
    "df['month'] = df['date'].dt.strftime(\"%m\")\n",
    "df.head()\n",
    "\n",
    "#월별 그룹 \n",
    "df_grp= df.groupby('month')['number'].sum()\n",
    "df_grp = pd.DataFrame(df_grp)\n"
   ]
  },
  {
   "cell_type": "code",
   "execution_count": 49,
   "metadata": {},
   "outputs": [
    {
     "data": {
      "text/html": [
       "<div>\n",
       "<style scoped>\n",
       "    .dataframe tbody tr th:only-of-type {\n",
       "        vertical-align: middle;\n",
       "    }\n",
       "\n",
       "    .dataframe tbody tr th {\n",
       "        vertical-align: top;\n",
       "    }\n",
       "\n",
       "    .dataframe thead th {\n",
       "        text-align: right;\n",
       "    }\n",
       "</style>\n",
       "<table border=\"1\" class=\"dataframe\">\n",
       "  <thead>\n",
       "    <tr style=\"text-align: right;\">\n",
       "      <th></th>\n",
       "      <th>number</th>\n",
       "    </tr>\n",
       "    <tr>\n",
       "      <th>month</th>\n",
       "      <th></th>\n",
       "    </tr>\n",
       "  </thead>\n",
       "  <tbody>\n",
       "    <tr>\n",
       "      <th>03</th>\n",
       "      <td>512787</td>\n",
       "    </tr>\n",
       "    <tr>\n",
       "      <th>04</th>\n",
       "      <td>1143807</td>\n",
       "    </tr>\n",
       "    <tr>\n",
       "      <th>05</th>\n",
       "      <td>1512369</td>\n",
       "    </tr>\n",
       "    <tr>\n",
       "      <th>06</th>\n",
       "      <td>1298825</td>\n",
       "    </tr>\n",
       "    <tr>\n",
       "      <th>07</th>\n",
       "      <td>850401</td>\n",
       "    </tr>\n",
       "    <tr>\n",
       "      <th>08</th>\n",
       "      <td>1058316</td>\n",
       "    </tr>\n",
       "    <tr>\n",
       "      <th>09</th>\n",
       "      <td>883580</td>\n",
       "    </tr>\n",
       "    <tr>\n",
       "      <th>10</th>\n",
       "      <td>25923</td>\n",
       "    </tr>\n",
       "  </tbody>\n",
       "</table>\n",
       "</div>"
      ],
      "text/plain": [
       "        number\n",
       "month         \n",
       "03      512787\n",
       "04     1143807\n",
       "05     1512369\n",
       "06     1298825\n",
       "07      850401\n",
       "08     1058316\n",
       "09      883580\n",
       "10       25923"
      ]
     },
     "execution_count": 49,
     "metadata": {},
     "output_type": "execute_result"
    }
   ],
   "source": [
    "df_grp"
   ]
  },
  {
   "cell_type": "code",
   "execution_count": 55,
   "metadata": {},
   "outputs": [
    {
     "data": {
      "text/plain": [
       "Text(0.5, 1.0, '월별 관객수')"
      ]
     },
     "execution_count": 55,
     "metadata": {},
     "output_type": "execute_result"
    },
    {
     "data": {
      "image/png": "[encoded data removed]",
      "text/plain": [
       "<Figure size 432x288 with 1 Axes>"
      ]
     },
     "metadata": {
      "needs_background": "light"
     },
     "output_type": "display_data"
    }
   ],
   "source": [
    "import seaborn as sns\n",
    "import matplotlib.pylab as plt\n",
    "\n",
    "plt.rc('font', family ='D2Coding')\n",
    "sns.barplot(df_grp.index, df_grp['number'], data = df_grp )\n",
    "plt.title('월별 관객수')"
   ]
  },
  {
   "cell_type": "code",
   "execution_count": 57,
   "metadata": {},
   "outputs": [
    {
     "data": {
      "text/plain": [
       "Text(0.5, 1.0, '구장별 관객수')"
      ]
     },
     "execution_count": 57,
     "metadata": {},
     "output_type": "execute_result"
    },
    {
     "data": {
      "image/png": "[encoded data removed]",
      "text/plain": [
       "<Figure size 432x288 with 1 Axes>"
      ]
     },
     "metadata": {
      "needs_background": "light"
     },
     "output_type": "display_data"
    }
   ],
   "source": [
    "# 2.구장별 관객수\n",
    "df_place= df.groupby('place')['number'].sum()\n",
    "df_place = pd.DataFrame(df_place)\n",
    "df_place\n",
    "\n",
    "#시각화\n",
    "sns.barplot(df_place.index, df_place['number'], data = df_place )\n",
    "plt.title('구장별 관객수')"
   ]
  },
  {
   "cell_type": "code",
   "execution_count": 103,
   "metadata": {},
   "outputs": [
    {
     "data": {
      "text/plain": [
       "Text(0.5, 1.0, '요일별 관객수')"
      ]
     },
     "execution_count": 103,
     "metadata": {},
     "output_type": "execute_result"
    },
    {
     "data": {
      "image/png": "[encoded data removed]",
      "text/plain": [
       "<Figure size 432x288 with 1 Axes>"
      ]
     },
     "metadata": {
      "needs_background": "light"
     },
     "output_type": "display_data"
    }
   ],
   "source": [
    "# 3. 요일별 관객수\n",
    "df_day= df.groupby('day')['number'].sum()\n",
    "df_day = pd.DataFrame(df_day)\n",
    "df_day\n",
    "\n",
    "\n",
    "#시각화\n",
    "xlabel= ['월','화','수','목','금','토','일']\n",
    "sns.barplot(df_day.index, df_day['number'], data = df_day )\n",
    "plt.title('요일별 관객수')"
   ]
  },
  {
   "cell_type": "code",
   "execution_count": 93,
   "metadata": {},
   "outputs": [
    {
     "data": {
      "text/plain": [
       "Text(0.5, 1.0, '요일별 관객수')"
      ]
     },
     "execution_count": 93,
     "metadata": {},
     "output_type": "execute_result"
    },
    {
     "data": {
      "image/png": "[encoded data removed]",
      "text/plain": [
       "<Figure size 432x288 with 1 Axes>"
      ]
     },
     "metadata": {
      "needs_background": "light"
     },
     "output_type": "display_data"
    }
   ],
   "source": [
    "# 2-2. 장소별 요일에 따른 관객수\n",
    "df_place_day= df.groupby(['place','day'])['number',].sum()\n",
    "df_place_day = pd.DataFrame(df_day)\n",
    "\n",
    "\n",
    "\n",
    "\n",
    "# #시각화\n",
    "sns.barplot(df_place_day.index, df_place_day['number'], data = df_place_day )\n",
    "plt.title('요일별 관객수')"
   ]
  },
  {
   "cell_type": "code",
   "execution_count": 102,
   "metadata": {},
   "outputs": [
    {
     "data": {
      "text/plain": [
       "Text(0, 0.5, '관객 수')"
      ]
     },
     "execution_count": 102,
     "metadata": {},
     "output_type": "execute_result"
    },
    {
     "data": {
      "image/png": "[encoded data removed]",
      "text/plain": [
       "<Figure size 864x648 with 1 Axes>"
      ]
     },
     "metadata": {
      "needs_background": "light"
     },
     "output_type": "display_data"
    }
   ],
   "source": [
    "# 2-2. 장소별 요일에 따른 관객수\n",
    "df_place_day= df.groupby(['place','day'])['number',].sum()\n",
    "df_place_day = pd.DataFrame(df_place_day)\n",
    "\n",
    "df_place_day.reset_index(level=['day'],inplace=True)\n",
    "\n",
    "df_place_day\n",
    "\n",
    "# #시각화\n",
    "xlabel= ['월','화','수','목','금','토','일']\n",
    "plt.figure(figsize=(12,9))\n",
    "sns.barplot(df_place_day.index, df_place_day['number'], data = df_place_day ,hue='day')\n",
    "plt.title('장소별 요일에 따른 관객수')\n",
    "plt.ylabel('관객 수')"
   ]
  },
  {
   "cell_type": "code",
   "execution_count": null,
   "metadata": {},
   "outputs": [],
   "source": [
    "# 4.일별 관객수\n",
    "\n",
    "df['Dday'] = df['date'].dt.strftime(\"%d\")\n",
    "#날짜 분리 columnd\n",
    "# df['year'] = df['date'].dt.year\n",
    "# df['menth'] = df['date'].dt.menth\n",
    "# df['day'] = df['date'].dt.day\n",
    "\n",
    "df['dayofweek'] = df['date'].dt.dayofweek\n",
    "print(df.head())\n",
    "# df.head()\n",
    "\n",
    "df_Dday= df.groupby('Dday')['number'].sum()\n",
    "df_Dday = pd.DataFrame(df_Dday)\n",
    "df_Dday\n",
    "\n",
    "#시각화\n",
    "sns.barplot(df_Dday.index, df_Dday['number'], data = df_Dday )\n",
    "plt.title('일별 관객수')\n"
   ]
  },
  {
   "cell_type": "code",
   "execution_count": 95,
   "metadata": {},
   "outputs": [
    {
     "data": {
      "text/html": [
       "<div>\n",
       "<style scoped>\n",
       "    .dataframe tbody tr th:only-of-type {\n",
       "        vertical-align: middle;\n",
       "    }\n",
       "\n",
       "    .dataframe tbody tr th {\n",
       "        vertical-align: top;\n",
       "    }\n",
       "\n",
       "    .dataframe thead th {\n",
       "        text-align: right;\n",
       "    }\n",
       "</style>\n",
       "<table border=\"1\" class=\"dataframe\">\n",
       "  <thead>\n",
       "    <tr style=\"text-align: right;\">\n",
       "      <th></th>\n",
       "      <th>date</th>\n",
       "      <th>day</th>\n",
       "      <th>team_1</th>\n",
       "      <th>team_2</th>\n",
       "      <th>place</th>\n",
       "      <th>number</th>\n",
       "      <th>month</th>\n",
       "      <th>Dday</th>\n",
       "      <th>dayofweek</th>\n",
       "    </tr>\n",
       "  </thead>\n",
       "  <tbody>\n",
       "    <tr>\n",
       "      <th>1</th>\n",
       "      <td>2019-03-23</td>\n",
       "      <td>토</td>\n",
       "      <td>두산</td>\n",
       "      <td>한화</td>\n",
       "      <td>잠실</td>\n",
       "      <td>25000</td>\n",
       "      <td>03</td>\n",
       "      <td>23</td>\n",
       "      <td>5</td>\n",
       "    </tr>\n",
       "    <tr>\n",
       "      <th>2</th>\n",
       "      <td>2019-03-23</td>\n",
       "      <td>토</td>\n",
       "      <td>SK</td>\n",
       "      <td>KT</td>\n",
       "      <td>문학</td>\n",
       "      <td>21909</td>\n",
       "      <td>03</td>\n",
       "      <td>23</td>\n",
       "      <td>5</td>\n",
       "    </tr>\n",
       "    <tr>\n",
       "      <th>3</th>\n",
       "      <td>2019-03-23</td>\n",
       "      <td>토</td>\n",
       "      <td>KIA</td>\n",
       "      <td>LG</td>\n",
       "      <td>광주</td>\n",
       "      <td>20500</td>\n",
       "      <td>03</td>\n",
       "      <td>23</td>\n",
       "      <td>5</td>\n",
       "    </tr>\n",
       "    <tr>\n",
       "      <th>4</th>\n",
       "      <td>2019-03-23</td>\n",
       "      <td>토</td>\n",
       "      <td>NC</td>\n",
       "      <td>삼성</td>\n",
       "      <td>창원</td>\n",
       "      <td>22112</td>\n",
       "      <td>03</td>\n",
       "      <td>23</td>\n",
       "      <td>5</td>\n",
       "    </tr>\n",
       "    <tr>\n",
       "      <th>5</th>\n",
       "      <td>2019-03-23</td>\n",
       "      <td>토</td>\n",
       "      <td>롯데</td>\n",
       "      <td>키움</td>\n",
       "      <td>사직</td>\n",
       "      <td>24500</td>\n",
       "      <td>03</td>\n",
       "      <td>23</td>\n",
       "      <td>5</td>\n",
       "    </tr>\n",
       "  </tbody>\n",
       "</table>\n",
       "</div>"
      ],
      "text/plain": [
       "        date day team_1 team_2 place  number month Dday  dayofweek\n",
       "1 2019-03-23   토     두산     한화    잠실   25000    03   23          5\n",
       "2 2019-03-23   토     SK     KT    문학   21909    03   23          5\n",
       "3 2019-03-23   토    KIA     LG    광주   20500    03   23          5\n",
       "4 2019-03-23   토     NC     삼성    창원   22112    03   23          5\n",
       "5 2019-03-23   토     롯데     키움    사직   24500    03   23          5"
      ]
     },
     "execution_count": 95,
     "metadata": {},
     "output_type": "execute_result"
    }
   ],
   "source": [
    "df.head()"
   ]
  },
  {
   "cell_type": "code",
   "execution_count": null,
   "metadata": {},
   "outputs": [],
   "source": []
  }
 ],
 "metadata": {
  "kernelspec": {
   "display_name": "Python 3",
   "language": "python",
   "name": "python3"
  },
  "language_info": {
   "codemirror_mode": {
    "name": "ipython",
    "version": 3
   },
   "file_extension": ".py",
   "mimetype": "text/x-python",
   "name": "python",
   "nbconvert_exporter": "python",
   "pygments_lexer": "ipython3",
   "version": "3.7.1"
  }
 },
 "nbformat": 4,
 "nbformat_minor": 4
}

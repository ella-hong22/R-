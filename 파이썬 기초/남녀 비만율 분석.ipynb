{
 "cells": [
  {
   "cell_type": "code",
   "execution_count": 73,
   "metadata": {},
   "outputs": [
    {
     "data": {
      "text/html": [
       "<div>\n",
       "<style scoped>\n",
       "    .dataframe tbody tr th:only-of-type {\n",
       "        vertical-align: middle;\n",
       "    }\n",
       "\n",
       "    .dataframe tbody tr th {\n",
       "        vertical-align: top;\n",
       "    }\n",
       "\n",
       "    .dataframe thead th {\n",
       "        text-align: right;\n",
       "    }\n",
       "</style>\n",
       "<table border=\"1\" class=\"dataframe\">\n",
       "  <thead>\n",
       "    <tr style=\"text-align: right;\">\n",
       "      <th></th>\n",
       "      <th>ⓞ_02_성별</th>\n",
       "      <th>ⓞ_06_나이_반올림</th>\n",
       "      <th>ⓞ_12_골격근량</th>\n",
       "      <th>ⓞ_13_체지방량</th>\n",
       "      <th>ⓞ_14_체수분</th>\n",
       "      <th>ⓞ_15_단백질</th>\n",
       "      <th>ⓞ_16_무기질</th>\n",
       "      <th>ⓞ_17_BMI</th>\n",
       "      <th>ⓞ_18_체지방율</th>\n",
       "      <th>ⓞ_19_복부지방율</th>\n",
       "      <th>...</th>\n",
       "      <th>①_124_무릎아래둘레</th>\n",
       "      <th>①_125_장딴지둘레</th>\n",
       "      <th>①_126_종아리최소둘레</th>\n",
       "      <th>①_127_발목최대둘레</th>\n",
       "      <th>①_128_발목너비</th>\n",
       "      <th>①_129_발뒤꿈치너비</th>\n",
       "      <th>①_130_위팔둘레</th>\n",
       "      <th>①_131_팔꿈치둘레</th>\n",
       "      <th>①_132_손목둘레</th>\n",
       "      <th>①_133_머리위로뻗은주먹높이</th>\n",
       "    </tr>\n",
       "  </thead>\n",
       "  <tbody>\n",
       "    <tr>\n",
       "      <th>0</th>\n",
       "      <td>남</td>\n",
       "      <td>25</td>\n",
       "      <td>33.2</td>\n",
       "      <td>13.6</td>\n",
       "      <td>42.9</td>\n",
       "      <td>11.8</td>\n",
       "      <td>3.8</td>\n",
       "      <td>23.92</td>\n",
       "      <td>18.9</td>\n",
       "      <td>0.9</td>\n",
       "      <td>...</td>\n",
       "      <td>325.0</td>\n",
       "      <td>370.0</td>\n",
       "      <td>209.0</td>\n",
       "      <td>241.0</td>\n",
       "      <td>50.0</td>\n",
       "      <td>62.0</td>\n",
       "      <td>325.0</td>\n",
       "      <td>286.0</td>\n",
       "      <td>153.0</td>\n",
       "      <td>2,013</td>\n",
       "    </tr>\n",
       "    <tr>\n",
       "      <th>1</th>\n",
       "      <td>남</td>\n",
       "      <td>28</td>\n",
       "      <td>44.5</td>\n",
       "      <td>28.7</td>\n",
       "      <td>56.5</td>\n",
       "      <td>15.5</td>\n",
       "      <td>5.5</td>\n",
       "      <td>31.61</td>\n",
       "      <td>27.0</td>\n",
       "      <td>0.9</td>\n",
       "      <td>...</td>\n",
       "      <td>396.0</td>\n",
       "      <td>439.0</td>\n",
       "      <td>260.0</td>\n",
       "      <td>295.0</td>\n",
       "      <td>62.0</td>\n",
       "      <td>77.0</td>\n",
       "      <td>395.0</td>\n",
       "      <td>318.0</td>\n",
       "      <td>179.0</td>\n",
       "      <td>2,160</td>\n",
       "    </tr>\n",
       "    <tr>\n",
       "      <th>2</th>\n",
       "      <td>남</td>\n",
       "      <td>19</td>\n",
       "      <td>36.5</td>\n",
       "      <td>5.6</td>\n",
       "      <td>46.6</td>\n",
       "      <td>12.7</td>\n",
       "      <td>4.2</td>\n",
       "      <td>22.72</td>\n",
       "      <td>8.1</td>\n",
       "      <td>0.8</td>\n",
       "      <td>...</td>\n",
       "      <td>350.0</td>\n",
       "      <td>380.0</td>\n",
       "      <td>232.0</td>\n",
       "      <td>268.0</td>\n",
       "      <td>54.0</td>\n",
       "      <td>63.0</td>\n",
       "      <td>313.0</td>\n",
       "      <td>291.0</td>\n",
       "      <td>166.0</td>\n",
       "      <td>2,062</td>\n",
       "    </tr>\n",
       "    <tr>\n",
       "      <th>3</th>\n",
       "      <td>남</td>\n",
       "      <td>20</td>\n",
       "      <td>35.2</td>\n",
       "      <td>7.0</td>\n",
       "      <td>45.1</td>\n",
       "      <td>12.3</td>\n",
       "      <td>4.0</td>\n",
       "      <td>22.31</td>\n",
       "      <td>10.3</td>\n",
       "      <td>0.8</td>\n",
       "      <td>...</td>\n",
       "      <td>330.0</td>\n",
       "      <td>368.0</td>\n",
       "      <td>219.0</td>\n",
       "      <td>257.0</td>\n",
       "      <td>58.0</td>\n",
       "      <td>68.0</td>\n",
       "      <td>303.0</td>\n",
       "      <td>295.0</td>\n",
       "      <td>163.0</td>\n",
       "      <td>2,020</td>\n",
       "    </tr>\n",
       "    <tr>\n",
       "      <th>4</th>\n",
       "      <td>남</td>\n",
       "      <td>22</td>\n",
       "      <td>40.4</td>\n",
       "      <td>11.6</td>\n",
       "      <td>51.5</td>\n",
       "      <td>14.0</td>\n",
       "      <td>4.8</td>\n",
       "      <td>23.90</td>\n",
       "      <td>14.1</td>\n",
       "      <td>0.9</td>\n",
       "      <td>...</td>\n",
       "      <td>362.0</td>\n",
       "      <td>391.0</td>\n",
       "      <td>230.0</td>\n",
       "      <td>279.0</td>\n",
       "      <td>62.0</td>\n",
       "      <td>68.0</td>\n",
       "      <td>304.0</td>\n",
       "      <td>291.0</td>\n",
       "      <td>167.0</td>\n",
       "      <td>2,148</td>\n",
       "    </tr>\n",
       "  </tbody>\n",
       "</table>\n",
       "<p>5 rows × 148 columns</p>\n",
       "</div>"
      ],
      "text/plain": [
       "  ⓞ_02_성별  ⓞ_06_나이_반올림  ⓞ_12_골격근량  ⓞ_13_체지방량  ⓞ_14_체수분  ⓞ_15_단백질  ⓞ_16_무기질  \\\n",
       "0       남           25       33.2       13.6      42.9      11.8       3.8   \n",
       "1       남           28       44.5       28.7      56.5      15.5       5.5   \n",
       "2       남           19       36.5        5.6      46.6      12.7       4.2   \n",
       "3       남           20       35.2        7.0      45.1      12.3       4.0   \n",
       "4       남           22       40.4       11.6      51.5      14.0       4.8   \n",
       "\n",
       "   ⓞ_17_BMI  ⓞ_18_체지방율  ⓞ_19_복부지방율  ... ①_124_무릎아래둘레 ①_125_장딴지둘레  \\\n",
       "0     23.92       18.9         0.9  ...        325.0       370.0   \n",
       "1     31.61       27.0         0.9  ...        396.0       439.0   \n",
       "2     22.72        8.1         0.8  ...        350.0       380.0   \n",
       "3     22.31       10.3         0.8  ...        330.0       368.0   \n",
       "4     23.90       14.1         0.9  ...        362.0       391.0   \n",
       "\n",
       "  ①_126_종아리최소둘레  ①_127_발목최대둘레  ①_128_발목너비  ①_129_발뒤꿈치너비  ①_130_위팔둘레  \\\n",
       "0         209.0         241.0        50.0          62.0       325.0   \n",
       "1         260.0         295.0        62.0          77.0       395.0   \n",
       "2         232.0         268.0        54.0          63.0       313.0   \n",
       "3         219.0         257.0        58.0          68.0       303.0   \n",
       "4         230.0         279.0        62.0          68.0       304.0   \n",
       "\n",
       "  ①_131_팔꿈치둘레 ①_132_손목둘레 ①_133_머리위로뻗은주먹높이  \n",
       "0       286.0      153.0            2,013  \n",
       "1       318.0      179.0            2,160  \n",
       "2       291.0      166.0            2,062  \n",
       "3       295.0      163.0            2,020  \n",
       "4       291.0      167.0            2,148  \n",
       "\n",
       "[5 rows x 148 columns]"
      ]
     },
     "execution_count": 73,
     "metadata": {},
     "output_type": "execute_result"
    }
   ],
   "source": [
    "import pandas as pd \n",
    "import matplotlib.pylab as plt\n",
    "import seaborn as sns\n",
    "\n",
    "df= pd.read_csv(\"E:/Ella/RStudio/DataAnalysis/프로젝트/size.csv\" )\n",
    "df.head()"
   ]
  },
  {
   "cell_type": "code",
   "execution_count": 74,
   "metadata": {},
   "outputs": [],
   "source": [
    "df=df.rename(columns = {'ⓞ_02_성별' : 'gender',\n",
    "                       'ⓞ_06_나이_반올림' :'age',\n",
    "                       'ⓞ_17_BMI' :'bmi',\n",
    "                       'ⓞ_20_복부지방율평가' : 'fat',\n",
    "                      'ⓞ_21_기초대사량' : 'basal',\n",
    "                       '①_003_키' : 'height',\n",
    "                       '①_031_몸무게' :'weight',\n",
    "                       '①_044_배둘레' :'abdo'})\n",
    " "
   ]
  },
  {
   "cell_type": "code",
   "execution_count": null,
   "metadata": {},
   "outputs": [],
   "source": [
    "df_size=df[['gender', 'age', 'bmi','fat','basal', 'height','weight','abdo']]"
   ]
  },
  {
   "cell_type": "code",
   "execution_count": 81,
   "metadata": {},
   "outputs": [
    {
     "name": "stdout",
     "output_type": "stream",
     "text": [
      "<class 'pandas.core.frame.DataFrame'>\n",
      "RangeIndex: 6420 entries, 0 to 6419\n",
      "Data columns (total 8 columns):\n",
      " #   Column  Non-Null Count  Dtype  \n",
      "---  ------  --------------  -----  \n",
      " 0   gender  6420 non-null   object \n",
      " 1   age     6420 non-null   int64  \n",
      " 2   bmi     6412 non-null   float64\n",
      " 3   fat     6420 non-null   object \n",
      " 4   basal   6396 non-null   float64\n",
      " 5   height  6419 non-null   float64\n",
      " 6   weight  6413 non-null   float64\n",
      " 7   abdo    6415 non-null   float64\n",
      "dtypes: float64(5), int64(1), object(2)\n",
      "memory usage: 401.4+ KB\n"
     ]
    },
    {
     "data": {
      "text/html": [
       "<div>\n",
       "<style scoped>\n",
       "    .dataframe tbody tr th:only-of-type {\n",
       "        vertical-align: middle;\n",
       "    }\n",
       "\n",
       "    .dataframe tbody tr th {\n",
       "        vertical-align: top;\n",
       "    }\n",
       "\n",
       "    .dataframe thead th {\n",
       "        text-align: right;\n",
       "    }\n",
       "</style>\n",
       "<table border=\"1\" class=\"dataframe\">\n",
       "  <thead>\n",
       "    <tr style=\"text-align: right;\">\n",
       "      <th></th>\n",
       "      <th>gender</th>\n",
       "      <th>age</th>\n",
       "      <th>bmi</th>\n",
       "      <th>fat</th>\n",
       "      <th>basal</th>\n",
       "      <th>height</th>\n",
       "      <th>weight</th>\n",
       "      <th>abdo</th>\n",
       "    </tr>\n",
       "  </thead>\n",
       "  <tbody>\n",
       "    <tr>\n",
       "      <th>0</th>\n",
       "      <td>남</td>\n",
       "      <td>25</td>\n",
       "      <td>23.92</td>\n",
       "      <td>경도복부비만</td>\n",
       "      <td>1633.0</td>\n",
       "      <td>1736.0</td>\n",
       "      <td>72.1</td>\n",
       "      <td>815.0</td>\n",
       "    </tr>\n",
       "    <tr>\n",
       "      <th>1</th>\n",
       "      <td>남</td>\n",
       "      <td>28</td>\n",
       "      <td>31.61</td>\n",
       "      <td>복부비만</td>\n",
       "      <td>2044.0</td>\n",
       "      <td>1833.0</td>\n",
       "      <td>106.2</td>\n",
       "      <td>1053.0</td>\n",
       "    </tr>\n",
       "    <tr>\n",
       "      <th>2</th>\n",
       "      <td>남</td>\n",
       "      <td>19</td>\n",
       "      <td>22.72</td>\n",
       "      <td>표준</td>\n",
       "      <td>1742.0</td>\n",
       "      <td>1744.0</td>\n",
       "      <td>69.1</td>\n",
       "      <td>755.0</td>\n",
       "    </tr>\n",
       "  </tbody>\n",
       "</table>\n",
       "</div>"
      ],
      "text/plain": [
       "  gender  age    bmi     fat   basal  height  weight    abdo\n",
       "0      남   25  23.92  경도복부비만  1633.0  1736.0    72.1   815.0\n",
       "1      남   28  31.61    복부비만  2044.0  1833.0   106.2  1053.0\n",
       "2      남   19  22.72      표준  1742.0  1744.0    69.1   755.0"
      ]
     },
     "execution_count": 81,
     "metadata": {},
     "output_type": "execute_result"
    }
   ],
   "source": [
    "df_size.info()\n",
    "df_size.head(3)"
   ]
  },
  {
   "cell_type": "code",
   "execution_count": 80,
   "metadata": {
    "collapsed": true
   },
   "outputs": [
    {
     "ename": "AttributeError",
     "evalue": "Can only use .str accessor with string values!",
     "output_type": "error",
     "traceback": [
      "\u001b[1;31m---------------------------------------------------------------------------\u001b[0m",
      "\u001b[1;31mAttributeError\u001b[0m                            Traceback (most recent call last)",
      "\u001b[1;32m<ipython-input-80-2bc557c1d5e0>\u001b[0m in \u001b[0;36m<module>\u001b[1;34m\u001b[0m\n\u001b[0;32m      1\u001b[0m \u001b[1;31m#컬럼 형식 변경(스트링 -> 숫자)\u001b[0m\u001b[1;33m\u001b[0m\u001b[1;33m\u001b[0m\u001b[1;33m\u001b[0m\u001b[0m\n\u001b[1;32m----> 2\u001b[1;33m \u001b[0mdf_size\u001b[0m\u001b[1;33m[\u001b[0m\u001b[1;34m'basal'\u001b[0m\u001b[1;33m]\u001b[0m \u001b[1;33m=\u001b[0m \u001b[0mdf_size\u001b[0m\u001b[1;33m[\u001b[0m\u001b[1;34m'basal'\u001b[0m\u001b[1;33m]\u001b[0m\u001b[1;33m.\u001b[0m\u001b[0mstr\u001b[0m\u001b[1;33m.\u001b[0m\u001b[0mstrip\u001b[0m\u001b[1;33m(\u001b[0m\u001b[1;33m)\u001b[0m\u001b[1;33m\u001b[0m\u001b[1;33m\u001b[0m\u001b[0m\n\u001b[0m\u001b[0;32m      3\u001b[0m \u001b[0mdf_size\u001b[0m\u001b[1;33m[\u001b[0m\u001b[1;34m'basal'\u001b[0m\u001b[1;33m]\u001b[0m \u001b[1;33m=\u001b[0m \u001b[0mdf_size\u001b[0m\u001b[1;33m[\u001b[0m\u001b[1;34m'basal'\u001b[0m\u001b[1;33m]\u001b[0m\u001b[1;33m.\u001b[0m\u001b[0mstr\u001b[0m\u001b[1;33m.\u001b[0m\u001b[0mreplace\u001b[0m\u001b[1;33m(\u001b[0m\u001b[1;34m','\u001b[0m\u001b[1;33m,\u001b[0m\u001b[1;34m''\u001b[0m\u001b[1;33m)\u001b[0m\u001b[1;33m.\u001b[0m\u001b[0mastype\u001b[0m\u001b[1;33m(\u001b[0m\u001b[0mfloat\u001b[0m\u001b[1;33m)\u001b[0m\u001b[1;33m\u001b[0m\u001b[1;33m\u001b[0m\u001b[0m\n\u001b[0;32m      4\u001b[0m \u001b[1;33m\u001b[0m\u001b[0m\n\u001b[0;32m      5\u001b[0m \u001b[1;31m#df_size['basal'] = df_size['basal'].str.strip().str.replace(',','').astype(float)\u001b[0m\u001b[1;33m\u001b[0m\u001b[1;33m\u001b[0m\u001b[1;33m\u001b[0m\u001b[0m\n",
      "\u001b[1;32m~\\anaconda3\\envs\\ck\\lib\\site-packages\\pandas\\core\\generic.py\u001b[0m in \u001b[0;36m__getattr__\u001b[1;34m(self, name)\u001b[0m\n\u001b[0;32m   5268\u001b[0m             \u001b[1;32mor\u001b[0m \u001b[0mname\u001b[0m \u001b[1;32min\u001b[0m \u001b[0mself\u001b[0m\u001b[1;33m.\u001b[0m\u001b[0m_accessors\u001b[0m\u001b[1;33m\u001b[0m\u001b[1;33m\u001b[0m\u001b[0m\n\u001b[0;32m   5269\u001b[0m         ):\n\u001b[1;32m-> 5270\u001b[1;33m             \u001b[1;32mreturn\u001b[0m \u001b[0mobject\u001b[0m\u001b[1;33m.\u001b[0m\u001b[0m__getattribute__\u001b[0m\u001b[1;33m(\u001b[0m\u001b[0mself\u001b[0m\u001b[1;33m,\u001b[0m \u001b[0mname\u001b[0m\u001b[1;33m)\u001b[0m\u001b[1;33m\u001b[0m\u001b[1;33m\u001b[0m\u001b[0m\n\u001b[0m\u001b[0;32m   5271\u001b[0m         \u001b[1;32melse\u001b[0m\u001b[1;33m:\u001b[0m\u001b[1;33m\u001b[0m\u001b[1;33m\u001b[0m\u001b[0m\n\u001b[0;32m   5272\u001b[0m             \u001b[1;32mif\u001b[0m \u001b[0mself\u001b[0m\u001b[1;33m.\u001b[0m\u001b[0m_info_axis\u001b[0m\u001b[1;33m.\u001b[0m\u001b[0m_can_hold_identifiers_and_holds_name\u001b[0m\u001b[1;33m(\u001b[0m\u001b[0mname\u001b[0m\u001b[1;33m)\u001b[0m\u001b[1;33m:\u001b[0m\u001b[1;33m\u001b[0m\u001b[1;33m\u001b[0m\u001b[0m\n",
      "\u001b[1;32m~\\anaconda3\\envs\\ck\\lib\\site-packages\\pandas\\core\\accessor.py\u001b[0m in \u001b[0;36m__get__\u001b[1;34m(self, obj, cls)\u001b[0m\n\u001b[0;32m    185\u001b[0m             \u001b[1;31m# we're accessing the attribute of the class, i.e., Dataset.geo\u001b[0m\u001b[1;33m\u001b[0m\u001b[1;33m\u001b[0m\u001b[1;33m\u001b[0m\u001b[0m\n\u001b[0;32m    186\u001b[0m             \u001b[1;32mreturn\u001b[0m \u001b[0mself\u001b[0m\u001b[1;33m.\u001b[0m\u001b[0m_accessor\u001b[0m\u001b[1;33m\u001b[0m\u001b[1;33m\u001b[0m\u001b[0m\n\u001b[1;32m--> 187\u001b[1;33m         \u001b[0maccessor_obj\u001b[0m \u001b[1;33m=\u001b[0m \u001b[0mself\u001b[0m\u001b[1;33m.\u001b[0m\u001b[0m_accessor\u001b[0m\u001b[1;33m(\u001b[0m\u001b[0mobj\u001b[0m\u001b[1;33m)\u001b[0m\u001b[1;33m\u001b[0m\u001b[1;33m\u001b[0m\u001b[0m\n\u001b[0m\u001b[0;32m    188\u001b[0m         \u001b[1;31m# Replace the property with the accessor object. Inspired by:\u001b[0m\u001b[1;33m\u001b[0m\u001b[1;33m\u001b[0m\u001b[1;33m\u001b[0m\u001b[0m\n\u001b[0;32m    189\u001b[0m         \u001b[1;31m# http://www.pydanny.com/cached-property.html\u001b[0m\u001b[1;33m\u001b[0m\u001b[1;33m\u001b[0m\u001b[1;33m\u001b[0m\u001b[0m\n",
      "\u001b[1;32m~\\anaconda3\\envs\\ck\\lib\\site-packages\\pandas\\core\\strings.py\u001b[0m in \u001b[0;36m__init__\u001b[1;34m(self, data)\u001b[0m\n\u001b[0;32m   2039\u001b[0m \u001b[1;33m\u001b[0m\u001b[0m\n\u001b[0;32m   2040\u001b[0m     \u001b[1;32mdef\u001b[0m \u001b[0m__init__\u001b[0m\u001b[1;33m(\u001b[0m\u001b[0mself\u001b[0m\u001b[1;33m,\u001b[0m \u001b[0mdata\u001b[0m\u001b[1;33m)\u001b[0m\u001b[1;33m:\u001b[0m\u001b[1;33m\u001b[0m\u001b[1;33m\u001b[0m\u001b[0m\n\u001b[1;32m-> 2041\u001b[1;33m         \u001b[0mself\u001b[0m\u001b[1;33m.\u001b[0m\u001b[0m_inferred_dtype\u001b[0m \u001b[1;33m=\u001b[0m \u001b[0mself\u001b[0m\u001b[1;33m.\u001b[0m\u001b[0m_validate\u001b[0m\u001b[1;33m(\u001b[0m\u001b[0mdata\u001b[0m\u001b[1;33m)\u001b[0m\u001b[1;33m\u001b[0m\u001b[1;33m\u001b[0m\u001b[0m\n\u001b[0m\u001b[0;32m   2042\u001b[0m         \u001b[0mself\u001b[0m\u001b[1;33m.\u001b[0m\u001b[0m_is_categorical\u001b[0m \u001b[1;33m=\u001b[0m \u001b[0mis_categorical_dtype\u001b[0m\u001b[1;33m(\u001b[0m\u001b[0mdata\u001b[0m\u001b[1;33m)\u001b[0m\u001b[1;33m\u001b[0m\u001b[1;33m\u001b[0m\u001b[0m\n\u001b[0;32m   2043\u001b[0m         \u001b[0mself\u001b[0m\u001b[1;33m.\u001b[0m\u001b[0m_is_string\u001b[0m \u001b[1;33m=\u001b[0m \u001b[0mdata\u001b[0m\u001b[1;33m.\u001b[0m\u001b[0mdtype\u001b[0m\u001b[1;33m.\u001b[0m\u001b[0mname\u001b[0m \u001b[1;33m==\u001b[0m \u001b[1;34m\"string\"\u001b[0m\u001b[1;33m\u001b[0m\u001b[1;33m\u001b[0m\u001b[0m\n",
      "\u001b[1;32m~\\anaconda3\\envs\\ck\\lib\\site-packages\\pandas\\core\\strings.py\u001b[0m in \u001b[0;36m_validate\u001b[1;34m(data)\u001b[0m\n\u001b[0;32m   2096\u001b[0m \u001b[1;33m\u001b[0m\u001b[0m\n\u001b[0;32m   2097\u001b[0m         \u001b[1;32mif\u001b[0m \u001b[0minferred_dtype\u001b[0m \u001b[1;32mnot\u001b[0m \u001b[1;32min\u001b[0m \u001b[0mallowed_types\u001b[0m\u001b[1;33m:\u001b[0m\u001b[1;33m\u001b[0m\u001b[1;33m\u001b[0m\u001b[0m\n\u001b[1;32m-> 2098\u001b[1;33m             \u001b[1;32mraise\u001b[0m \u001b[0mAttributeError\u001b[0m\u001b[1;33m(\u001b[0m\u001b[1;34m\"Can only use .str accessor with string values!\"\u001b[0m\u001b[1;33m)\u001b[0m\u001b[1;33m\u001b[0m\u001b[1;33m\u001b[0m\u001b[0m\n\u001b[0m\u001b[0;32m   2099\u001b[0m         \u001b[1;32mreturn\u001b[0m \u001b[0minferred_dtype\u001b[0m\u001b[1;33m\u001b[0m\u001b[1;33m\u001b[0m\u001b[0m\n\u001b[0;32m   2100\u001b[0m \u001b[1;33m\u001b[0m\u001b[0m\n",
      "\u001b[1;31mAttributeError\u001b[0m: Can only use .str accessor with string values!"
     ]
    }
   ],
   "source": [
    "#컬럼 형식 변경(스트링 -> 숫자)\n",
    "df_size['basal'] = df_size['basal'].str.strip()\n",
    "df_size['basal'] = df_size['basal'].str.replace(',','').astype(float)\n",
    "\n",
    "#df_size['basal'] = df_size['basal'].str.strip().str.replace(',','').astype(float)\n",
    "\n",
    "df_size['height'] = df_size['height'].str.strip()\n",
    "df_size['height'] = df_size['height'].str.replace(',','').astype(float)\n",
    "\n",
    "df_size['abdo'] = df_size['abdo'].str.strip()\n",
    "df_size['abdo'] = df_size['abdo'].str.replace(',','').astype(float)\n",
    "\n"
   ]
  },
  {
   "cell_type": "code",
   "execution_count": 82,
   "metadata": {},
   "outputs": [
    {
     "data": {
      "text/plain": [
       "<seaborn.axisgrid.FacetGrid at 0x1b89bcd5a58>"
      ]
     },
     "execution_count": 82,
     "metadata": {},
     "output_type": "execute_result"
    },
    {
     "data": {
      "image/png": "[encoded data removed]",
      "text/plain": [
       "<Figure size 406x360 with 1 Axes>"
      ]
     },
     "metadata": {
      "needs_background": "light"
     },
     "output_type": "display_data"
    }
   ],
   "source": [
    "#남여별 키와 몸무게\n",
    "\n",
    "plt.rc('font', family ='D2Coding')\n",
    "sns.lmplot(x='height' , y='weight', data= df_size, fit_reg= False, hue_order=['남','여'],\n",
    "          hue = 'gender', markers=['o','x'])"
   ]
  },
  {
   "cell_type": "code",
   "execution_count": 67,
   "metadata": {},
   "outputs": [
    {
     "name": "stdout",
     "output_type": "stream",
     "text": [
      "gender\n",
      "남    1722.436933\n",
      "여    1587.105149\n",
      "Name: height, dtype: float64\n",
      "gender\n",
      "남    70.954215\n",
      "여    56.809745\n",
      "Name: weight, dtype: float64\n"
     ]
    }
   ],
   "source": [
    "#남여 평균 키\n",
    "\n",
    "size_height = df_size.groupby('gender')['height'].mean()\n",
    "print(size_height)\n",
    "\n",
    "\n",
    "size_weight = df_size.groupby('gender')['weight'].mean()\n",
    "print(size_weight)"
   ]
  },
  {
   "cell_type": "code",
   "execution_count": 83,
   "metadata": {},
   "outputs": [
    {
     "data": {
      "text/plain": [
       "array(['경도복부비만', '복부비만', '표준', '0.9'], dtype=object)"
      ]
     },
     "execution_count": 83,
     "metadata": {},
     "output_type": "execute_result"
    }
   ],
   "source": [
    "df_size['fat'].unique()"
   ]
  },
  {
   "cell_type": "code",
   "execution_count": 86,
   "metadata": {},
   "outputs": [
    {
     "data": {
      "text/plain": [
       "0       경도복부비만\n",
       "1         복부비만\n",
       "2           표준\n",
       "3           표준\n",
       "4           표준\n",
       "         ...  \n",
       "6415        표준\n",
       "6416        표준\n",
       "6417      복부비만\n",
       "6418        표준\n",
       "6419      복부비만\n",
       "Name: fat, Length: 6420, dtype: object"
      ]
     },
     "execution_count": 86,
     "metadata": {},
     "output_type": "execute_result"
    }
   ],
   "source": [
    "df_size.loc[df_size['fat'].isnull()]\n",
    "df_size['fat'] = df_size['fat'].fillna(value='0.9')\n",
    "df_size['fat']"
   ]
  },
  {
   "cell_type": "code",
   "execution_count": 87,
   "metadata": {},
   "outputs": [
    {
     "data": {
      "text/html": [
       "<div>\n",
       "<style scoped>\n",
       "    .dataframe tbody tr th:only-of-type {\n",
       "        vertical-align: middle;\n",
       "    }\n",
       "\n",
       "    .dataframe tbody tr th {\n",
       "        vertical-align: top;\n",
       "    }\n",
       "\n",
       "    .dataframe thead th {\n",
       "        text-align: right;\n",
       "    }\n",
       "</style>\n",
       "<table border=\"1\" class=\"dataframe\">\n",
       "  <thead>\n",
       "    <tr style=\"text-align: right;\">\n",
       "      <th></th>\n",
       "      <th>gender</th>\n",
       "      <th>age</th>\n",
       "      <th>bmi</th>\n",
       "      <th>fat</th>\n",
       "      <th>basal</th>\n",
       "      <th>height</th>\n",
       "      <th>weight</th>\n",
       "      <th>abdo</th>\n",
       "    </tr>\n",
       "  </thead>\n",
       "  <tbody>\n",
       "  </tbody>\n",
       "</table>\n",
       "</div>"
      ],
      "text/plain": [
       "Empty DataFrame\n",
       "Columns: [gender, age, bmi, fat, basal, height, weight, abdo]\n",
       "Index: []"
      ]
     },
     "execution_count": 87,
     "metadata": {},
     "output_type": "execute_result"
    }
   ],
   "source": [
    "df_size.loc[df_size['fat']==0.9]"
   ]
  },
  {
   "cell_type": "code",
   "execution_count": 89,
   "metadata": {},
   "outputs": [
    {
     "data": {
      "text/html": [
       "<div>\n",
       "<style scoped>\n",
       "    .dataframe tbody tr th:only-of-type {\n",
       "        vertical-align: middle;\n",
       "    }\n",
       "\n",
       "    .dataframe tbody tr th {\n",
       "        vertical-align: top;\n",
       "    }\n",
       "\n",
       "    .dataframe thead th {\n",
       "        text-align: right;\n",
       "    }\n",
       "</style>\n",
       "<table border=\"1\" class=\"dataframe\">\n",
       "  <thead>\n",
       "    <tr style=\"text-align: right;\">\n",
       "      <th></th>\n",
       "      <th>gender</th>\n",
       "      <th>age</th>\n",
       "      <th>bmi</th>\n",
       "      <th>fat</th>\n",
       "      <th>basal</th>\n",
       "      <th>height</th>\n",
       "      <th>weight</th>\n",
       "      <th>abdo</th>\n",
       "    </tr>\n",
       "  </thead>\n",
       "  <tbody>\n",
       "    <tr>\n",
       "      <th>0</th>\n",
       "      <td>남</td>\n",
       "      <td>25</td>\n",
       "      <td>23.92</td>\n",
       "      <td>경도복부비만</td>\n",
       "      <td>1633.0</td>\n",
       "      <td>1736.0</td>\n",
       "      <td>72.1</td>\n",
       "      <td>815.0</td>\n",
       "    </tr>\n",
       "    <tr>\n",
       "      <th>1</th>\n",
       "      <td>남</td>\n",
       "      <td>28</td>\n",
       "      <td>31.61</td>\n",
       "      <td>복부비만</td>\n",
       "      <td>2044.0</td>\n",
       "      <td>1833.0</td>\n",
       "      <td>106.2</td>\n",
       "      <td>1053.0</td>\n",
       "    </tr>\n",
       "    <tr>\n",
       "      <th>2</th>\n",
       "      <td>남</td>\n",
       "      <td>19</td>\n",
       "      <td>22.72</td>\n",
       "      <td>표준</td>\n",
       "      <td>1742.0</td>\n",
       "      <td>1744.0</td>\n",
       "      <td>69.1</td>\n",
       "      <td>755.0</td>\n",
       "    </tr>\n",
       "    <tr>\n",
       "      <th>3</th>\n",
       "      <td>남</td>\n",
       "      <td>20</td>\n",
       "      <td>22.31</td>\n",
       "      <td>표준</td>\n",
       "      <td>1695.0</td>\n",
       "      <td>1751.0</td>\n",
       "      <td>68.4</td>\n",
       "      <td>741.0</td>\n",
       "    </tr>\n",
       "    <tr>\n",
       "      <th>4</th>\n",
       "      <td>남</td>\n",
       "      <td>22</td>\n",
       "      <td>23.90</td>\n",
       "      <td>표준</td>\n",
       "      <td>1890.0</td>\n",
       "      <td>1851.0</td>\n",
       "      <td>81.9</td>\n",
       "      <td>891.0</td>\n",
       "    </tr>\n",
       "    <tr>\n",
       "      <th>...</th>\n",
       "      <td>...</td>\n",
       "      <td>...</td>\n",
       "      <td>...</td>\n",
       "      <td>...</td>\n",
       "      <td>...</td>\n",
       "      <td>...</td>\n",
       "      <td>...</td>\n",
       "      <td>...</td>\n",
       "    </tr>\n",
       "    <tr>\n",
       "      <th>6415</th>\n",
       "      <td>여</td>\n",
       "      <td>20</td>\n",
       "      <td>20.48</td>\n",
       "      <td>표준</td>\n",
       "      <td>1259.0</td>\n",
       "      <td>1706.0</td>\n",
       "      <td>59.6</td>\n",
       "      <td>790.0</td>\n",
       "    </tr>\n",
       "    <tr>\n",
       "      <th>6416</th>\n",
       "      <td>여</td>\n",
       "      <td>20</td>\n",
       "      <td>20.82</td>\n",
       "      <td>표준</td>\n",
       "      <td>1228.0</td>\n",
       "      <td>1624.0</td>\n",
       "      <td>54.9</td>\n",
       "      <td>795.0</td>\n",
       "    </tr>\n",
       "    <tr>\n",
       "      <th>6417</th>\n",
       "      <td>여</td>\n",
       "      <td>44</td>\n",
       "      <td>22.03</td>\n",
       "      <td>복부비만</td>\n",
       "      <td>1120.0</td>\n",
       "      <td>1508.0</td>\n",
       "      <td>50.1</td>\n",
       "      <td>831.0</td>\n",
       "    </tr>\n",
       "    <tr>\n",
       "      <th>6418</th>\n",
       "      <td>여</td>\n",
       "      <td>20</td>\n",
       "      <td>18.00</td>\n",
       "      <td>표준</td>\n",
       "      <td>1089.0</td>\n",
       "      <td>1574.0</td>\n",
       "      <td>44.6</td>\n",
       "      <td>722.0</td>\n",
       "    </tr>\n",
       "    <tr>\n",
       "      <th>6419</th>\n",
       "      <td>여</td>\n",
       "      <td>37</td>\n",
       "      <td>26.06</td>\n",
       "      <td>복부비만</td>\n",
       "      <td>1287.0</td>\n",
       "      <td>1550.0</td>\n",
       "      <td>62.6</td>\n",
       "      <td>870.0</td>\n",
       "    </tr>\n",
       "  </tbody>\n",
       "</table>\n",
       "<p>6399 rows × 8 columns</p>\n",
       "</div>"
      ],
      "text/plain": [
       "     gender  age    bmi     fat   basal  height  weight    abdo\n",
       "0         남   25  23.92  경도복부비만  1633.0  1736.0    72.1   815.0\n",
       "1         남   28  31.61    복부비만  2044.0  1833.0   106.2  1053.0\n",
       "2         남   19  22.72      표준  1742.0  1744.0    69.1   755.0\n",
       "3         남   20  22.31      표준  1695.0  1751.0    68.4   741.0\n",
       "4         남   22  23.90      표준  1890.0  1851.0    81.9   891.0\n",
       "...     ...  ...    ...     ...     ...     ...     ...     ...\n",
       "6415      여   20  20.48      표준  1259.0  1706.0    59.6   790.0\n",
       "6416      여   20  20.82      표준  1228.0  1624.0    54.9   795.0\n",
       "6417      여   44  22.03    복부비만  1120.0  1508.0    50.1   831.0\n",
       "6418      여   20  18.00      표준  1089.0  1574.0    44.6   722.0\n",
       "6419      여   37  26.06    복부비만  1287.0  1550.0    62.6   870.0\n",
       "\n",
       "[6399 rows x 8 columns]"
      ]
     },
     "execution_count": 89,
     "metadata": {},
     "output_type": "execute_result"
    }
   ],
   "source": [
    "size3=df_size.loc[df_size['fat']!='0.9']\n",
    "size3"
   ]
  },
  {
   "cell_type": "code",
   "execution_count": 60,
   "metadata": {},
   "outputs": [
    {
     "data": {
      "text/plain": [
       "<seaborn.axisgrid.FacetGrid at 0x1b89722ceb8>"
      ]
     },
     "execution_count": 60,
     "metadata": {},
     "output_type": "execute_result"
    },
    {
     "data": {
      "image/png": "[encoded data removed]",
      "text/plain": [
       "<Figure size 456x360 with 1 Axes>"
      ]
     },
     "metadata": {
      "needs_background": "light"
     },
     "output_type": "display_data"
    }
   ],
   "source": [
    "#복부 비만별 키 몸무게\n",
    "df_size['fat'].unique()\n",
    "df_size.loc[df_size['fat'].isnull()]\n",
    "df_size['fat'] = df_size['fat'].fillna(value='0.9')\n",
    "df_size.loc[df_size['fat']==0.9]\n",
    "\n",
    "size3=df_size.loc[df_size['fat']!='0.9']\n",
    "\n",
    "sns.lmplot(x='height', y='weight', data=size3, fit_reg=False,\n",
    "              hue='fat',\n",
    "              hue_order=['표준', '복부비만', '경도복부비만'],\n",
    "              markers=['o','x','+'])"
   ]
  },
  {
   "cell_type": "code",
   "execution_count": null,
   "metadata": {},
   "outputs": [],
   "source": []
  }
 ],
 "metadata": {
  "kernelspec": {
   "display_name": "Python 3",
   "language": "python",
   "name": "python3"
  },
  "language_info": {
   "codemirror_mode": {
    "name": "ipython",
    "version": 3
   },
   "file_extension": ".py",
   "mimetype": "text/x-python",
   "name": "python",
   "nbconvert_exporter": "python",
   "pygments_lexer": "ipython3",
   "version": "3.7.1"
  }
 },
 "nbformat": 4,
 "nbformat_minor": 4
}

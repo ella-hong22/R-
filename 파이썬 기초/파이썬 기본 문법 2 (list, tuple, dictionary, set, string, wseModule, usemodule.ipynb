{
 "cells": [
  {
   "cell_type": "code",
   "execution_count": 29,
   "metadata": {},
   "outputs": [
    {
     "name": "stdout",
     "output_type": "stream",
     "text": [
      "[1, 2, 3, 4, 5, 3]\n",
      "6\n",
      "1\n",
      "5\n",
      "2\n",
      "2\n",
      "3\n",
      "[1, 2]\n",
      "[1, 2, 3, 4, 5, 3]\n",
      "==============================\n"
     ]
    }
   ],
   "source": [
    "# 리스트 만들기 위해선 대괄호를 사용 \n",
    "list1 = [1,2,3,4,5,3]\n",
    "print(list1)\n",
    "print(len(list1))\n",
    "print(min(list1))\n",
    "print(max(list1))\n",
    "print(list1.count(3)) # 숫자 3인 갯수가 몇개 인지\n",
    "\n",
    "#인덱스 사용 \n",
    "print(list1[1])\n",
    "print(list1[-1])\n",
    "\n",
    "#리스트 분할 : 원본 유지. 새로 생성\n",
    "list2 = list1[0:2]\n",
    "print(list2)\n",
    "print(list1)\n",
    "\n",
    "print(\"=\"*30)"
   ]
  },
  {
   "cell_type": "code",
   "execution_count": 7,
   "metadata": {},
   "outputs": [
    {
     "name": "stdout",
     "output_type": "stream",
     "text": [
      "[9, 2, 3, 4, 5, 3]\n",
      "[9, 2, 3, 4, 5, 3]\n",
      "2282232357576 2282232357576 2282232600712 //0 2282200957896\n"
     ]
    }
   ],
   "source": [
    "#리스트 복사 -얕은 복사\n",
    "list3 = list1\n",
    "# 깊은 복사\n",
    "list4 = list1[:]\n",
    "\n",
    "list1[0] =9 #0번째 변수 9로 변경 \n",
    "print(list3)\n",
    "print(list4)\n",
    "\n",
    "#id는 변수의 메모리 주소값을 리턴 \n",
    "print(id(list1), id(list3), id(list4), \"//0\", id(list2))\n",
    "\n"
   ]
  },
  {
   "cell_type": "code",
   "execution_count": 8,
   "metadata": {},
   "outputs": [
    {
     "name": "stdout",
     "output_type": "stream",
     "text": [
      "[9, 2, 3, 4, 5, 3, '홍길동', '전우치', '손오공']\n"
     ]
    }
   ],
   "source": [
    "# 리스트 병합 \n",
    "list5 = [\"홍길동\", \"전우치\", \"손오공\"]\n",
    "list6 = list1+ list5\n",
    "print(list6)\n"
   ]
  },
  {
   "cell_type": "code",
   "execution_count": 10,
   "metadata": {},
   "outputs": [
    {
     "name": "stdout",
     "output_type": "stream",
     "text": [
      "True\n",
      "2 is in list [9, 2, 3, 4, 5, 3]\n",
      "True\n",
      "6 is not in list [9, 2, 3, 4, 5, 3]\n"
     ]
    }
   ],
   "source": [
    "# in 과 not in 사용\n",
    "a = 2 in list1\n",
    "print(a)\n",
    "if 2 in list1:\n",
    "    print(\"2 is in list\", list1)\n",
    "    \n",
    "b = 6 not in list1\n",
    "print(b)\n",
    "if 6 not in list1:\n",
    "    print(\"6 is not in list\", list1)"
   ]
  },
  {
   "cell_type": "code",
   "execution_count": 24,
   "metadata": {},
   "outputs": [
    {
     "name": "stdout",
     "output_type": "stream",
     "text": [
      "[1, 2, 4, 5, 6, 6, 6, 6, 7]\n",
      "[1, 2, 4, 5, 6, 6, 6, 6]\n",
      "[1, 2, 4, 5, 6, 6, 6]\n",
      "[1]\n",
      "[1, 'a', 'b', 'c', 2, 4, 5, 6, 6, 6]\n",
      "[1, 2, 4, 5, 6, 6, 6]\n",
      "[1, 2, 4, 5, 6, 6]\n",
      "==============================\n"
     ]
    }
   ],
   "source": [
    "# 자료의 추가, 삭제 \n",
    "list1.append(6)\n",
    "list1.append(7)\n",
    "print(list1)\n",
    "\n",
    "list1.pop() #끝의 값만 삭제\n",
    "print(list1)\n",
    "\n",
    "list1.remove(6) # 3인숫자를 삭제(앞에서부터)\n",
    "print(list1)\n",
    "\n",
    "list1.insert(0,1)\n",
    "print(list1[1:2])\n",
    "list1[1:2] = ['a', 'b','c']\n",
    "print(list1)\n",
    "list1[1:4] = []\n",
    "print(list1)\n",
    "\n",
    "del list1[5] #5번째 인덱스 삭제\n",
    "print(list1)\n",
    "\n",
    "print(\"=\" *30 )"
   ]
  },
  {
   "cell_type": "code",
   "execution_count": 26,
   "metadata": {},
   "outputs": [
    {
     "name": "stdout",
     "output_type": "stream",
     "text": [
      "reverse :  [6, 6, 5, 4, 2, 1]\n",
      "list8 : [6, 6, 5, 4, 2, 1]\n",
      "sort :  [1, 2, 4, 5, 6, 6]\n"
     ]
    }
   ],
   "source": [
    "#인플레스이스 변경되는 함수\n",
    "list7 = list1[:]\n",
    "list7.reverse()\n",
    "print(\"reverse : \" , list7)\n",
    "\n",
    "#sort 함수 : 인플레이스 정렬\n",
    "list8 = list7[:]\n",
    "print(\"list8 :\", list8)\n",
    "list8.sort()\n",
    "print(\"sort : \" , list8)"
   ]
  },
  {
   "cell_type": "code",
   "execution_count": 27,
   "metadata": {},
   "outputs": [
    {
     "name": "stdout",
     "output_type": "stream",
     "text": [
      "[[4, 3, 2, 1], [2, 4, 1, 3], [1, 2, 3, 4]]\n"
     ]
    }
   ],
   "source": [
    "#sorted 함수 \n",
    "my_list = [[1,2,3,4],[4,3,2,1],[2,4,1,3]]\n",
    "list9 = sorted(my_list, key=lambda index_value : index_value[3]) #4번째 인덱스값만을 비교해서 정렬\n",
    "print(list9)"
   ]
  },
  {
   "cell_type": "code",
   "execution_count": 34,
   "metadata": {},
   "outputs": [
    {
     "name": "stdout",
     "output_type": "stream",
     "text": [
      "<class 'int'>\n",
      "(1, 5, 3)\n",
      "((1,), 5, (3,))\n",
      "[1, 2, 3]\n"
     ]
    }
   ],
   "source": [
    "tuple = ('a' , 'b', 'c')\n",
    "\n",
    "\n",
    "#원소가 없는 튜플은 만들때 괄호를 쓴다.\n",
    "tuple2 = ()\n",
    "\n",
    "tuple3 = (1)\n",
    "print(type(tuple3))\n",
    "\n",
    "#튜플은 리스트와 달리 변경이 안됨 \n",
    "\n",
    "tuple4 = (1,2,3)\n",
    "tuple5 = tuple4[:1] + (5,) + tuple4[2:]\n",
    "print(tuple5)\n",
    "\n",
    "tuple6 = tuple4[:1], 5, tuple4[2:]\n",
    "print(tuple6)\n",
    "\n",
    "#튜플을 리스트로 만들\n",
    "list1 = list(tuple4)\n",
    "print(list1)\n",
    "\n",
    "# tuple7 = tuple(list1)\n",
    "# print(tuple7)"
   ]
  },
  {
   "cell_type": "code",
   "execution_count": 35,
   "metadata": {},
   "outputs": [
    {
     "name": "stdout",
     "output_type": "stream",
     "text": [
      "{'a': 3, 'c': 2, 'b': 1}\n",
      "3\n",
      "{'x': 'printer', 'y': 5, 'z': ['star', 'circle', 9]}\n",
      "3\n"
     ]
    }
   ],
   "source": [
    "#중괄호를 이용하여 딕셔너리 생성\n",
    "#len()\n",
    "\n",
    "empty_dict = {}\n",
    "\n",
    "dict1 = {'a' : 3, 'c': 2 , 'b':1}\n",
    "print(dict1)\n",
    "print(len(dict1))\n",
    "\n",
    "dict2 = {'x' : 'printer', 'y': 5, 'z' : ['star', 'circle',9]}\n",
    "print(dict2)\n",
    "print(len(dict2))\n"
   ]
  },
  {
   "cell_type": "code",
   "execution_count": 41,
   "metadata": {},
   "outputs": [
    {
     "name": "stdout",
     "output_type": "stream",
     "text": [
      "dict_keys(['a', 'c', 'b'])\n",
      "dict_values([3, 2, 1])\n",
      "dict_items([('a', 3), ('c', 2), ('b', 1)])\n",
      "a, 3\n",
      "c, 2\n",
      "b, 1\n",
      "a, 3\n",
      "c, 2\n",
      "b, 1\n",
      "3\n"
     ]
    }
   ],
   "source": [
    "#키, 값, 아이템 \n",
    "print(dict1.keys())\n",
    "print(dict1.values())\n",
    "print(dict1.items())\n",
    "\n",
    "for key, val in dict1.items():\n",
    "    print(\"{0}, {1}\".format(key,val))\n",
    "    \n",
    "for key in dict1.keys():\n",
    "    print(\"{0}, {1}\".format(key,dict1[key]))\n",
    "    \n",
    "print(dict1['a'])"
   ]
  },
  {
   "cell_type": "code",
   "execution_count": 42,
   "metadata": {},
   "outputs": [
    {
     "name": "stdout",
     "output_type": "stream",
     "text": [
      "'y' is a key in dict2 {'x': 'printer', 'y': 5, 'z': ['star', 'circle', 9]}\n",
      "'c' not is a key in dict2 {'x': 'printer', 'y': 5, 'z': ['star', 'circle', 9]}\n"
     ]
    }
   ],
   "source": [
    "# in, not in 이용 \n",
    "if 'y' in dict2 :\n",
    "    print(\"'y' is a key in dict2\", dict2)\n",
    "if 'c' not in dict2 :\n",
    "    print(\"'c' not is a key in dict2\", dict2)\n"
   ]
  },
  {
   "cell_type": "code",
   "execution_count": 52,
   "metadata": {},
   "outputs": [
    {
     "ename": "KeyError",
     "evalue": "('c', 'a')",
     "output_type": "error",
     "traceback": [
      "\u001b[1;31m---------------------------------------------------------------------------\u001b[0m",
      "\u001b[1;31mKeyError\u001b[0m                                  Traceback (most recent call last)",
      "\u001b[1;32m<ipython-input-52-995066a9236d>\u001b[0m in \u001b[0;36m<module>\u001b[1;34m\u001b[0m\n\u001b[0;32m      1\u001b[0m \u001b[1;31m#키를 사용하여 딕셔너리 내 특정 값 접근\u001b[0m\u001b[1;33m\u001b[0m\u001b[1;33m\u001b[0m\u001b[1;33m\u001b[0m\u001b[0m\n\u001b[0;32m      2\u001b[0m \u001b[1;33m\u001b[0m\u001b[0m\n\u001b[1;32m----> 3\u001b[1;33m \u001b[0mprint\u001b[0m\u001b[1;33m(\u001b[0m\u001b[0mdict1\u001b[0m\u001b[1;33m[\u001b[0m\u001b[1;34m'c'\u001b[0m \u001b[1;33m,\u001b[0m\u001b[1;34m'a'\u001b[0m\u001b[1;33m]\u001b[0m\u001b[1;33m)\u001b[0m\u001b[1;33m\u001b[0m\u001b[1;33m\u001b[0m\u001b[0m\n\u001b[0m\u001b[0;32m      4\u001b[0m \u001b[1;33m\u001b[0m\u001b[0m\n\u001b[0;32m      5\u001b[0m \u001b[0mprint\u001b[0m\u001b[1;33m(\u001b[0m\u001b[0mdict1\u001b[0m\u001b[1;33m.\u001b[0m\u001b[0mget\u001b[0m\u001b[1;33m(\u001b[0m\u001b[1;34m'a'\u001b[0m\u001b[1;33m,\u001b[0m \u001b[1;34m'd'\u001b[0m\u001b[1;33m)\u001b[0m\u001b[1;33m)\u001b[0m\u001b[1;33m\u001b[0m\u001b[1;33m\u001b[0m\u001b[0m\n",
      "\u001b[1;31mKeyError\u001b[0m: ('c', 'a')"
     ]
    }
   ],
   "source": [
    "#키를 사용하여 딕셔너리 내 특정 값 접근 \n",
    "\n",
    "print(dict1['c' ,'a'])\n",
    "\n",
    "print(dict1.get('a', 'd'))\n",
    "# print(dict1.get('d'))\n",
    "# print(dict1.get('d', 'Not in dict1'))\n",
    "\n",
    "\n"
   ]
  },
  {
   "cell_type": "code",
   "execution_count": 45,
   "metadata": {},
   "outputs": [
    {
     "name": "stdout",
     "output_type": "stream",
     "text": [
      "{'a': 3, 'c': 2, 'b': 1}\n",
      "[('a', 3), ('b', 1), ('c', 2)]\n",
      "[('b', 1), ('c', 2), ('a', 3)]\n"
     ]
    }
   ],
   "source": [
    "#복사 \n",
    "dict3 = dict1.copy()\n",
    "print(dict3)\n",
    "\n",
    "#정렬하기\n",
    "dict4 = sorted(dict3.items(), key = lambda item : item[0])\n",
    "print(dict4) \n",
    "\n",
    "#이때 type이 리스트 형태로 바뀐다. \n",
    "\n",
    "dict5 = sorted(dict3.items(), key = lambda item : item[1])\n",
    "print(dict5)"
   ]
  },
  {
   "cell_type": "code",
   "execution_count": 56,
   "metadata": {},
   "outputs": [
    {
     "name": "stdout",
     "output_type": "stream",
     "text": [
      "{1, 3, 5}\n",
      "{'C', 'A', 'B'}\n"
     ]
    }
   ],
   "source": [
    "#set 데이터 정의(중복 허용 x , 순서 랜덤)\n",
    "myset1 = {1,1,3,3,5,5}\n",
    "print(myset1)\n",
    "\n",
    "#리스트를 set으로 변화\n",
    "mylist = [\"A\",\"A\",\"B\",\"B\",\"C\",\"C\"]\n",
    "myset2 = set(mylist)\n",
    "print(myset2)\n",
    "\n",
    "print(\"=\"*30)\n"
   ]
  },
  {
   "cell_type": "code",
   "execution_count": 60,
   "metadata": {},
   "outputs": [
    {
     "name": "stdout",
     "output_type": "stream",
     "text": [
      "{2, 3, 4, 5, 7, 10}\n",
      "{1, 2, 3, 4, 5, 7, 10}\n",
      "{2, 3, 4, 5, 7, 10}\n",
      "clear :  set()\n"
     ]
    }
   ],
   "source": [
    "#하나만 추가\n",
    "myset1.add(7)\n",
    "print(myset1)\n",
    "\n",
    "#여러개 추가 \n",
    "myset1.update({4,2,10,1})\n",
    "print(myset1)\n",
    "\n",
    "#하나만 삭제\n",
    "myset1.remove(1)\n",
    "print(myset1)\n",
    "\n",
    "#모두 삭제\n",
    "myset1.clear()\n",
    "print(\"clear : \", myset1)\n",
    "\n"
   ]
  },
  {
   "cell_type": "code",
   "execution_count": 66,
   "metadata": {},
   "outputs": [
    {
     "name": "stdout",
     "output_type": "stream",
     "text": [
      "A : {1, 2, 3, 4}\n",
      "B : {8, 5, 6, 7}\n",
      "True\n",
      "False\n",
      "len(A) : 4\n",
      " A | B (합집합) :  {1, 2, 3, 4, 5, 6, 7, 8}\n",
      "A & B (교집합) :  set()\n",
      "A - B (차집합) :  {1, 2, 3, 4}\n",
      "c : {1, 2, 3, 4, 5, 6, 7, 8, 9, 10}\n",
      "D : {9, 3, 6}\n",
      "False\n"
     ]
    }
   ],
   "source": [
    "#집합 연산\n",
    "\n",
    "A = {1,2,3,4}\n",
    "B= {5,6,7,8}\n",
    "\n",
    "print(\"A :\" , A)\n",
    "print(\"B :\" , B)\n",
    "\n",
    "\n",
    "print(1 in A)\n",
    "print(1 in B)\n",
    "print(\"len(A) :\", len(A))\n",
    "\n",
    "print(\" A | B (합집합) : \", A | B)\n",
    "print(\"A & B (교집합) : \", A & B)  #교집합\n",
    "print(\"A - B (차집합) : \", A - B) #차집합\n",
    "\n",
    "#x는 1부터 10까지의 수를 요소로 가진다. \n",
    "C= { x for x in range(1,11)}\n",
    "D= { x for x in range(1,11)  if x % 3 == 0}\n",
    "\n",
    "print(\"c :\", C)\n",
    "print(\"D :\", D)\n",
    "\n",
    "print(C < D)"
   ]
  }
 ],
 "metadata": {
  "kernelspec": {
   "display_name": "Python 3",
   "language": "python",
   "name": "python3"
  },
  "language_info": {
   "codemirror_mode": {
    "name": "ipython",
    "version": 3
   },
   "file_extension": ".py",
   "mimetype": "text/x-python",
   "name": "python",
   "nbconvert_exporter": "python",
   "pygments_lexer": "ipython3",
   "version": "3.7.1"
  }
 },
 "nbformat": 4,
 "nbformat_minor": 4
}

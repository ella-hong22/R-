{
 "cells": [
  {
   "cell_type": "code",
   "execution_count": 29,
   "metadata": {},
   "outputs": [
    {
     "name": "stdout",
     "output_type": "stream",
     "text": [
      "[1, 2, 3, 4, 5, 3]\n",
      "6\n",
      "1\n",
      "5\n",
      "2\n",
      "2\n",
      "3\n",
      "[1, 2]\n",
      "[1, 2, 3, 4, 5, 3]\n",
      "==============================\n"
     ]
    }
   ],
   "source": [
    "# 리스트 만들기 위해선 대괄호를 사용 \n",
    "list1 = [1,2,3,4,5,3]\n",
    "print(list1)\n",
    "print(len(list1))\n",
    "print(min(list1))\n",
    "print(max(list1))\n",
    "print(list1.count(3)) # 숫자 3인 갯수가 몇개 인지\n",
    "\n",
    "#인덱스 사용 \n",
    "print(list1[1])\n",
    "print(list1[-1])\n",
    "\n",
    "#리스트 분할 : 원본 유지. 새로 생성\n",
    "list2 = list1[0:2]\n",
    "print(list2)\n",
    "print(list1)\n",
    "\n",
    "print(\"=\"*30)"
   ]
  },
  {
   "cell_type": "code",
   "execution_count": null,
   "metadata": {},
   "outputs": [],
   "source": []
  },
  {
   "cell_type": "code",
   "execution_count": 7,
   "metadata": {},
   "outputs": [
    {
     "name": "stdout",
     "output_type": "stream",
     "text": [
      "[9, 2, 3, 4, 5, 3]\n",
      "[9, 2, 3, 4, 5, 3]\n",
      "2282232357576 2282232357576 2282232600712 //0 2282200957896\n"
     ]
    }
   ],
   "source": [
    "#리스트 복사 -얕은 복사\n",
    "list3 = list1\n",
    "# 깊은 복사\n",
    "list4 = list1[:]\n",
    "\n",
    "list1[0] =9 #0번째 변수 9로 변경 \n",
    "print(list3)\n",
    "print(list4)\n",
    "\n",
    "#id는 변수의 메모리 주소값을 리턴 \n",
    "print(id(list1), id(list3), id(list4), \"//0\", id(list2))\n",
    "\n"
   ]
  },
  {
   "cell_type": "code",
   "execution_count": 8,
   "metadata": {},
   "outputs": [
    {
     "name": "stdout",
     "output_type": "stream",
     "text": [
      "[9, 2, 3, 4, 5, 3, '홍길동', '전우치', '손오공']\n"
     ]
    }
   ],
   "source": [
    "# 리스트 병합 \n",
    "list5 = [\"홍길동\", \"전우치\", \"손오공\"]\n",
    "list6 = list1+ list5\n",
    "print(list6)\n"
   ]
  },
  {
   "cell_type": "code",
   "execution_count": 10,
   "metadata": {},
   "outputs": [
    {
     "name": "stdout",
     "output_type": "stream",
     "text": [
      "True\n",
      "2 is in list [9, 2, 3, 4, 5, 3]\n",
      "True\n",
      "6 is not in list [9, 2, 3, 4, 5, 3]\n"
     ]
    }
   ],
   "source": [
    "# in 과 not in 사용\n",
    "a = 2 in list1\n",
    "print(a)\n",
    "if 2 in list1:\n",
    "    print(\"2 is in list\", list1)\n",
    "    \n",
    "b = 6 not in list1\n",
    "print(b)\n",
    "if 6 not in list1:\n",
    "    print(\"6 is not in list\", list1)"
   ]
  },
  {
   "cell_type": "code",
   "execution_count": 24,
   "metadata": {},
   "outputs": [
    {
     "name": "stdout",
     "output_type": "stream",
     "text": [
      "[1, 2, 4, 5, 6, 6, 6, 6, 7]\n",
      "[1, 2, 4, 5, 6, 6, 6, 6]\n",
      "[1, 2, 4, 5, 6, 6, 6]\n",
      "[1]\n",
      "[1, 'a', 'b', 'c', 2, 4, 5, 6, 6, 6]\n",
      "[1, 2, 4, 5, 6, 6, 6]\n",
      "[1, 2, 4, 5, 6, 6]\n",
      "==============================\n"
     ]
    }
   ],
   "source": [
    "# 자료의 추가, 삭제 \n",
    "list1.append(6)\n",
    "list1.append(7)\n",
    "print(list1)\n",
    "\n",
    "list1.pop() #끝의 값만 삭제\n",
    "print(list1)\n",
    "\n",
    "list1.remove(6) # 3인숫자를 삭제(앞에서부터)\n",
    "print(list1)\n",
    "\n",
    "list1.insert(0,1)\n",
    "print(list1[1:2])\n",
    "list1[1:2] = ['a', 'b','c']\n",
    "print(list1)\n",
    "list1[1:4] = []\n",
    "print(list1)\n",
    "\n",
    "del list1[5] #5번째 인덱스 삭제\n",
    "print(list1)\n",
    "\n",
    "print(\"=\" *30 )"
   ]
  },
  {
   "cell_type": "code",
   "execution_count": 26,
   "metadata": {},
   "outputs": [
    {
     "name": "stdout",
     "output_type": "stream",
     "text": [
      "reverse :  [6, 6, 5, 4, 2, 1]\n",
      "list8 : [6, 6, 5, 4, 2, 1]\n",
      "sort :  [1, 2, 4, 5, 6, 6]\n"
     ]
    }
   ],
   "source": [
    "#인플레스이스 변경되는 함수\n",
    "list7 = list1[:]\n",
    "list7.reverse()\n",
    "print(\"reverse : \" , list7)\n",
    "\n",
    "#sort 함수 : 인플레이스 정렬\n",
    "list8 = list7[:]\n",
    "print(\"list8 :\", list8)\n",
    "list8.sort()\n",
    "print(\"sort : \" , list8)"
   ]
  },
  {
   "cell_type": "code",
   "execution_count": 27,
   "metadata": {},
   "outputs": [
    {
     "name": "stdout",
     "output_type": "stream",
     "text": [
      "[[4, 3, 2, 1], [2, 4, 1, 3], [1, 2, 3, 4]]\n"
     ]
    }
   ],
   "source": [
    "#sorted 함수 \n",
    "my_list = [[1,2,3,4],[4,3,2,1],[2,4,1,3]]\n",
    "list9 = sorted(my_list, key=lambda index_value : index_value[3]) #4번째 인덱스값만을 비교해서 정렬\n",
    "print(list9)"
   ]
  },
  {
   "cell_type": "code",
   "execution_count": 34,
   "metadata": {},
   "outputs": [
    {
     "name": "stdout",
     "output_type": "stream",
     "text": [
      "<class 'int'>\n",
      "(1, 5, 3)\n",
      "((1,), 5, (3,))\n",
      "[1, 2, 3]\n"
     ]
    }
   ],
   "source": [
    "tuple = ('a' , 'b', 'c')\n",
    "\n",
    "\n",
    "#원소가 없는 튜플은 만들때 괄호를 쓴다.\n",
    "tuple2 = ()\n",
    "\n",
    "tuple3 = (1)\n",
    "print(type(tuple3))\n",
    "\n",
    "#튜플은 리스트와 달리 변경이 안됨 \n",
    "\n",
    "tuple4 = (1,2,3)\n",
    "tuple5 = tuple4[:1] + (5,) + tuple4[2:]\n",
    "print(tuple5)\n",
    "\n",
    "tuple6 = tuple4[:1], 5, tuple4[2:]\n",
    "print(tuple6)\n",
    "\n",
    "#튜플을 리스트로 만들\n",
    "list1 = list(tuple4)\n",
    "print(list1)\n",
    "\n",
    "# tuple7 = tuple(list1)\n",
    "# print(tuple7)"
   ]
  },
  {
   "cell_type": "code",
   "execution_count": 35,
   "metadata": {},
   "outputs": [
    {
     "name": "stdout",
     "output_type": "stream",
     "text": [
      "{'a': 3, 'c': 2, 'b': 1}\n",
      "3\n",
      "{'x': 'printer', 'y': 5, 'z': ['star', 'circle', 9]}\n",
      "3\n"
     ]
    }
   ],
   "source": [
    "#중괄호를 이용하여 딕셔너리 생성\n",
    "#len()\n",
    "\n",
    "empty_dict = {}\n",
    "\n",
    "dict1 = {'a' : 3, 'c': 2 , 'b':1}\n",
    "print(dict1)\n",
    "print(len(dict1))\n",
    "\n",
    "dict2 = {'x' : 'printer', 'y': 5, 'z' : ['star', 'circle',9]}\n",
    "print(dict2)\n",
    "print(len(dict2))\n"
   ]
  },
  {
   "cell_type": "code",
   "execution_count": 41,
   "metadata": {},
   "outputs": [
    {
     "name": "stdout",
     "output_type": "stream",
     "text": [
      "dict_keys(['a', 'c', 'b'])\n",
      "dict_values([3, 2, 1])\n",
      "dict_items([('a', 3), ('c', 2), ('b', 1)])\n",
      "a, 3\n",
      "c, 2\n",
      "b, 1\n",
      "a, 3\n",
      "c, 2\n",
      "b, 1\n",
      "3\n"
     ]
    }
   ],
   "source": [
    "#키, 값, 아이템 \n",
    "print(dict1.keys())\n",
    "print(dict1.values())\n",
    "print(dict1.items())\n",
    "\n",
    "for key, val in dict1.items():\n",
    "    print(\"{0}, {1}\".format(key,val))\n",
    "    \n",
    "for key in dict1.keys():\n",
    "    print(\"{0}, {1}\".format(key,dict1[key]))\n",
    "    \n",
    "print(dict1['a'])"
   ]
  },
  {
   "cell_type": "code",
   "execution_count": 42,
   "metadata": {},
   "outputs": [
    {
     "name": "stdout",
     "output_type": "stream",
     "text": [
      "'y' is a key in dict2 {'x': 'printer', 'y': 5, 'z': ['star', 'circle', 9]}\n",
      "'c' not is a key in dict2 {'x': 'printer', 'y': 5, 'z': ['star', 'circle', 9]}\n"
     ]
    }
   ],
   "source": [
    "# in, not in 이용 \n",
    "if 'y' in dict2 :\n",
    "    print(\"'y' is a key in dict2\", dict2)\n",
    "if 'c' not in dict2 :\n",
    "    print(\"'c' not is a key in dict2\", dict2)\n"
   ]
  },
  {
   "cell_type": "code",
   "execution_count": 52,
   "metadata": {},
   "outputs": [
    {
     "ename": "KeyError",
     "evalue": "('c', 'a')",
     "output_type": "error",
     "traceback": [
      "\u001b[1;31m---------------------------------------------------------------------------\u001b[0m",
      "\u001b[1;31mKeyError\u001b[0m                                  Traceback (most recent call last)",
      "\u001b[1;32m<ipython-input-52-995066a9236d>\u001b[0m in \u001b[0;36m<module>\u001b[1;34m\u001b[0m\n\u001b[0;32m      1\u001b[0m \u001b[1;31m#키를 사용하여 딕셔너리 내 특정 값 접근\u001b[0m\u001b[1;33m\u001b[0m\u001b[1;33m\u001b[0m\u001b[1;33m\u001b[0m\u001b[0m\n\u001b[0;32m      2\u001b[0m \u001b[1;33m\u001b[0m\u001b[0m\n\u001b[1;32m----> 3\u001b[1;33m \u001b[0mprint\u001b[0m\u001b[1;33m(\u001b[0m\u001b[0mdict1\u001b[0m\u001b[1;33m[\u001b[0m\u001b[1;34m'c'\u001b[0m \u001b[1;33m,\u001b[0m\u001b[1;34m'a'\u001b[0m\u001b[1;33m]\u001b[0m\u001b[1;33m)\u001b[0m\u001b[1;33m\u001b[0m\u001b[1;33m\u001b[0m\u001b[0m\n\u001b[0m\u001b[0;32m      4\u001b[0m \u001b[1;33m\u001b[0m\u001b[0m\n\u001b[0;32m      5\u001b[0m \u001b[0mprint\u001b[0m\u001b[1;33m(\u001b[0m\u001b[0mdict1\u001b[0m\u001b[1;33m.\u001b[0m\u001b[0mget\u001b[0m\u001b[1;33m(\u001b[0m\u001b[1;34m'a'\u001b[0m\u001b[1;33m,\u001b[0m \u001b[1;34m'd'\u001b[0m\u001b[1;33m)\u001b[0m\u001b[1;33m)\u001b[0m\u001b[1;33m\u001b[0m\u001b[1;33m\u001b[0m\u001b[0m\n",
      "\u001b[1;31mKeyError\u001b[0m: ('c', 'a')"
     ]
    }
   ],
   "source": [
    "#키를 사용하여 딕셔너리 내 특정 값 접근 \n",
    "\n",
    "print(dict1['c' ,'a'])\n",
    "\n",
    "print(dict1.get('a', 'd'))\n",
    "# print(dict1.get('d'))\n",
    "# print(dict1.get('d', 'Not in dict1'))\n",
    "\n",
    "\n"
   ]
  },
  {
   "cell_type": "code",
   "execution_count": 45,
   "metadata": {},
   "outputs": [
    {
     "name": "stdout",
     "output_type": "stream",
     "text": [
      "{'a': 3, 'c': 2, 'b': 1}\n",
      "[('a', 3), ('b', 1), ('c', 2)]\n",
      "[('b', 1), ('c', 2), ('a', 3)]\n"
     ]
    }
   ],
   "source": [
    "#복사 \n",
    "dict3 = dict1.copy()\n",
    "print(dict3)\n",
    "\n",
    "#정렬하기\n",
    "dict4 = sorted(dict3.items(), key = lambda item : item[0])\n",
    "print(dict4) \n",
    "\n",
    "#이때 type이 리스트 형태로 바뀐다. \n",
    "\n",
    "dict5 = sorted(dict3.items(), key = lambda item : item[1])\n",
    "print(dict5)"
   ]
  },
  {
   "cell_type": "code",
   "execution_count": 56,
   "metadata": {},
   "outputs": [
    {
     "name": "stdout",
     "output_type": "stream",
     "text": [
      "{1, 3, 5}\n",
      "{'C', 'A', 'B'}\n"
     ]
    }
   ],
   "source": [
    "#set 데이터 정의(중복 허용 x , 순서 랜덤)\n",
    "myset1 = {1,1,3,3,5,5}\n",
    "print(myset1)\n",
    "\n",
    "#리스트를 set으로 변화\n",
    "mylist = [\"A\",\"A\",\"B\",\"B\",\"C\",\"C\"]\n",
    "myset2 = set(mylist)\n",
    "print(myset2)\n",
    "\n",
    "print(\"=\"*30)\n"
   ]
  },
  {
   "cell_type": "code",
   "execution_count": 60,
   "metadata": {},
   "outputs": [
    {
     "name": "stdout",
     "output_type": "stream",
     "text": [
      "{2, 3, 4, 5, 7, 10}\n",
      "{1, 2, 3, 4, 5, 7, 10}\n",
      "{2, 3, 4, 5, 7, 10}\n",
      "clear :  set()\n"
     ]
    }
   ],
   "source": [
    "#하나만 추가\n",
    "myset1.add(7)\n",
    "print(myset1)\n",
    "\n",
    "#여러개 추가 \n",
    "myset1.update({4,2,10,1})\n",
    "print(myset1)\n",
    "\n",
    "#하나만 삭제\n",
    "myset1.remove(1)\n",
    "print(myset1)\n",
    "\n",
    "#모두 삭제\n",
    "myset1.clear()\n",
    "print(\"clear : \", myset1)\n",
    "\n"
   ]
  },
  {
   "cell_type": "code",
   "execution_count": 66,
   "metadata": {},
   "outputs": [
    {
     "name": "stdout",
     "output_type": "stream",
     "text": [
      "A : {1, 2, 3, 4}\n",
      "B : {8, 5, 6, 7}\n",
      "True\n",
      "False\n",
      "len(A) : 4\n",
      " A | B (합집합) :  {1, 2, 3, 4, 5, 6, 7, 8}\n",
      "A & B (교집합) :  set()\n",
      "A - B (차집합) :  {1, 2, 3, 4}\n",
      "c : {1, 2, 3, 4, 5, 6, 7, 8, 9, 10}\n",
      "D : {9, 3, 6}\n",
      "False\n"
     ]
    }
   ],
   "source": [
    "#집합 연산\n",
    "\n",
    "A = {1,2,3,4}\n",
    "B= {5,6,7,8}\n",
    "\n",
    "print(\"A :\" , A)\n",
    "print(\"B :\" , B)\n",
    "\n",
    "\n",
    "print(1 in A)\n",
    "print(1 in B)\n",
    "print(\"len(A) :\", len(A))\n",
    "\n",
    "print(\" A | B (합집합) : \", A | B)\n",
    "print(\"A & B (교집합) : \", A & B)  #교집합\n",
    "print(\"A - B (차집합) : \", A - B) #차집합\n",
    "\n",
    "#x는 1부터 10까지의 수를 요소로 가진다. \n",
    "C= { x for x in range(1,11)}\n",
    "D= { x for x in range(1,11)  if x % 3 == 0}\n",
    "\n",
    "print(\"c :\", C)\n",
    "print(\"D :\", D)\n",
    "\n",
    "print(C < D)"
   ]
  },
  {
   "cell_type": "code",
   "execution_count": 2,
   "metadata": {},
   "outputs": [
    {
     "name": "stdout",
     "output_type": "stream",
     "text": [
      "string length :  5\n",
      "Character Count :  2\n"
     ]
    }
   ],
   "source": [
    "#문자 개수 세기 : 문자열의 전체 문자의 개수를 반환 \n",
    "str1 = \"apple\"\n",
    "cnt1 = len(str1)\n",
    "print(\"string length : \", cnt1)\n",
    "\n",
    "#분자 개수 세기 : 문자열 안의 문자의 개수 반환 \n",
    "cnt2 = str1.count('p')\n",
    "print(\"Character Count : \", cnt2)\n"
   ]
  },
  {
   "cell_type": "code",
   "execution_count": 9,
   "metadata": {},
   "outputs": [
    {
     "name": "stdout",
     "output_type": "stream",
     "text": [
      "Locarion # 1   8\n"
     ]
    },
    {
     "ename": "ValueError",
     "evalue": "substring not found",
     "output_type": "error",
     "traceback": [
      "\u001b[1;31m---------------------------------------------------------------------------\u001b[0m",
      "\u001b[1;31mValueError\u001b[0m                                Traceback (most recent call last)",
      "\u001b[1;32m<ipython-input-9-d841fc7f690e>\u001b[0m in \u001b[0;36m<module>\u001b[1;34m\u001b[0m\n\u001b[0;32m      6\u001b[0m \u001b[1;33m\u001b[0m\u001b[0m\n\u001b[0;32m      7\u001b[0m \u001b[1;31m#못찾으면 에러 발생\u001b[0m\u001b[1;33m\u001b[0m\u001b[1;33m\u001b[0m\u001b[1;33m\u001b[0m\u001b[0m\n\u001b[1;32m----> 8\u001b[1;33m \u001b[0mpos2\u001b[0m\u001b[1;33m=\u001b[0m \u001b[0mstr2\u001b[0m\u001b[1;33m.\u001b[0m\u001b[0mindex\u001b[0m\u001b[1;33m(\u001b[0m\u001b[1;34m\"보이\"\u001b[0m\u001b[1;33m)\u001b[0m\u001b[1;33m\u001b[0m\u001b[1;33m\u001b[0m\u001b[0m\n\u001b[0m\u001b[0;32m      9\u001b[0m \u001b[0mprint\u001b[0m\u001b[1;33m(\u001b[0m\u001b[1;34m\"Locarion # 2  \"\u001b[0m\u001b[1;33m,\u001b[0m \u001b[0mpos2\u001b[0m\u001b[1;33m)\u001b[0m\u001b[1;33m\u001b[0m\u001b[1;33m\u001b[0m\u001b[0m\n",
      "\u001b[1;31mValueError\u001b[0m: substring not found"
     ]
    }
   ],
   "source": [
    "#위치 찾기 \n",
    "#못찾으면 -1  발생\n",
    "str2 = \" i am a boy. you are a girl.\"\n",
    "pos1= str2.find(\"boy\")\n",
    "print(\"Locarion # 1  \", pos1)\n",
    "\n",
    "#못찾으면 에러 발생 \n",
    "pos2= str2.index(\"보이\")\n",
    "print(\"Locarion # 2  \", pos2)"
   ]
  },
  {
   "cell_type": "code",
   "execution_count": 6,
   "metadata": {},
   "outputs": [
    {
     "name": "stdout",
     "output_type": "stream",
     "text": [
      "Str32 : 인생 is too short.\n",
      "==============================\n"
     ]
    }
   ],
   "source": [
    "#문자열 바꾸기\n",
    "str31 = \"Life is too short.\"\n",
    "str32 = str31.replace(\"Life\", \"인생\")\n",
    "print(\"Str32 :\" , str32);\n",
    "print(\"=\"*30)"
   ]
  },
  {
   "cell_type": "code",
   "execution_count": 11,
   "metadata": {},
   "outputs": [
    {
     "name": "stdout",
     "output_type": "stream",
     "text": [
      "              1       2          3     4 \n",
      "01234567890123456789\n",
      "Life is too short. you need Python.\n",
      "str42[0:4 ]:  Life\n",
      "str43[5:7 ]:  is\n",
      "str44[:17 ]:  Life is too short\n",
      "str45[19: ]:  you need Python.\n"
     ]
    }
   ],
   "source": [
    "#문자열 자르기 \n",
    "print(\"              1       2          3     4 \")\n",
    "print(\"01234567890123456789\")\n",
    "str41 = \"Life is too short. you need Python.\"\n",
    "print(str41)\n",
    "str42 = str41[0:4]\n",
    "print(\"str42[0:4 ]: \", str42)\n",
    "\n",
    "str43 = str41[5:7]\n",
    "print(\"str43[5:7 ]: \", str43)\n",
    "\n",
    "str44 = str41[:17]\n",
    "print(\"str44[:17 ]: \", str44)\n",
    "\n",
    "str45 = str41[19:]\n",
    "print(\"str45[19: ]: \", str45)"
   ]
  },
  {
   "cell_type": "code",
   "execution_count": 13,
   "metadata": {},
   "outputs": [
    {
     "name": "stdout",
     "output_type": "stream",
     "text": [
      "str52: ['Life', 'is', 'too', 'short.']\n",
      "str62 :  ['a', 'b', 'c', 'd']\n",
      "str63 :  ['a', 'b', 'c:d']\n"
     ]
    }
   ],
   "source": [
    "#문자열 나누기 \n",
    "str51 = \"Life is too short.\"\n",
    "str52 = str51.split()\n",
    "print(\"str52:\", str52);\n",
    "\n",
    "str61 =\"a:b:c:d\"\n",
    "str62 = str61.split(':')\n",
    "\n",
    "print(\"str62 : \", str62);\n",
    "\n",
    "str63 = str61.split(':', 2) #2번째 까지만 나눔\n",
    "print(\"str63 : \", str63);\n"
   ]
  },
  {
   "cell_type": "code",
   "execution_count": 14,
   "metadata": {},
   "outputs": [
    {
     "name": "stdout",
     "output_type": "stream",
     "text": [
      "str7 :  1,2,3,4,5 <class 'str'>\n"
     ]
    }
   ],
   "source": [
    "#문자열 합치기 \n",
    "#join : csv 파일을 만들 때 유용하다.\n",
    "str_list = [\"1\", \"2\",\"3\",\"4\",\"5\"]\n",
    "str7 = \",\".join(str_list)\n",
    "print(\"str7 : \", str7, type(str7));\n",
    "\n"
   ]
  },
  {
   "cell_type": "code",
   "execution_count": 20,
   "metadata": {},
   "outputs": [
    {
     "name": "stdout",
     "output_type": "stream",
     "text": [
      "str81 : ##Remove unwanted characters   from this string./t/t   /n##\n",
      "str82 : ##Remove unwanted characters   from this string./t/t   /n##\n",
      "str82 : ##Remove unwanted characters   from this string./t/t   /n##\n",
      "str82 : ##Remove unwanted characters   from this string./t/t   /n##\n",
      "str86 : ##We are students.##\n"
     ]
    }
   ],
   "source": [
    "#문자열 좌우 문자 제거 \n",
    "#strip : 공배문자 제거 \n",
    "\n",
    "str81 = \"Remove unwanted characters   from this string./t/t   /n\"\n",
    "print(\"str81 : ##{0}##\".format(str81));\n",
    "\n",
    "str82 = str81.lstrip()\n",
    "print(\"str82 : ##{0}##\".format(str82));\n",
    "\n",
    "str83 = str81.rstrip()\n",
    "print(\"str82 : ##{0}##\".format(str83));\n",
    "\n",
    "str84 = str81.lstrip()\n",
    "print(\"str82 : ##{0}##\".format(str84));\n",
    "\n",
    "\n",
    "#문자열의 양끈에서 사용자가 지정한 문자를 제거 \n",
    "str85 = \"+-!We are students.-+/\"\n",
    "str86 = str85.strip(\"+-!/\")\n",
    "print(\"str86 : ##{0}##\".format(str86));\n"
   ]
  },
  {
   "cell_type": "code",
   "execution_count": 21,
   "metadata": {},
   "outputs": [],
   "source": [
    "#모듈의 사용\n",
    "\n",
    "PI = 3.141592\n",
    "\n",
    "def multiply(a,b):\n",
    "    return a*b\n",
    "\n",
    "#파일\"mylib1\"을 만들어야 import가 가능함 "
   ]
  },
  {
   "cell_type": "code",
   "execution_count": 22,
   "metadata": {},
   "outputs": [],
   "source": [
    "PI = 3.141592\n",
    "\n",
    "def add(a,b):\n",
    "    return a+ b\n",
    "\n",
    "def substract(a,b) :\n",
    "    return a-b"
   ]
  },
  {
   "cell_type": "code",
   "execution_count": 27,
   "metadata": {},
   "outputs": [
    {
     "ename": "ModuleNotFoundError",
     "evalue": "No module named 'mylib1'",
     "output_type": "error",
     "traceback": [
      "\u001b[1;31m---------------------------------------------------------------------------\u001b[0m",
      "\u001b[1;31mModuleNotFoundError\u001b[0m                       Traceback (most recent call last)",
      "\u001b[1;32m<ipython-input-27-2e1b203e3d99>\u001b[0m in \u001b[0;36m<module>\u001b[1;34m\u001b[0m\n\u001b[1;32m----> 1\u001b[1;33m \u001b[1;32mimport\u001b[0m \u001b[0mmylib1\u001b[0m\u001b[1;33m\u001b[0m\u001b[1;33m\u001b[0m\u001b[0m\n\u001b[0m\u001b[0;32m      2\u001b[0m \u001b[1;33m\u001b[0m\u001b[0m\n\u001b[0;32m      3\u001b[0m \u001b[0mi\u001b[0m \u001b[1;33m=\u001b[0m \u001b[0mmylib1\u001b[0m\u001b[1;33m.\u001b[0m\u001b[0mmultiply\u001b[0m\u001b[1;33m(\u001b[0m\u001b[1;36m20\u001b[0m\u001b[1;33m,\u001b[0m\u001b[1;36m5\u001b[0m\u001b[1;33m)\u001b[0m\u001b[1;33m\u001b[0m\u001b[1;33m\u001b[0m\u001b[0m\n\u001b[0;32m      4\u001b[0m \u001b[0mprint\u001b[0m\u001b[1;33m(\u001b[0m\u001b[0mi\u001b[0m\u001b[1;33m)\u001b[0m\u001b[1;33m\u001b[0m\u001b[1;33m\u001b[0m\u001b[0m\n\u001b[0;32m      5\u001b[0m \u001b[1;33m\u001b[0m\u001b[0m\n",
      "\u001b[1;31mModuleNotFoundError\u001b[0m: No module named 'mylib1'"
     ]
    }
   ],
   "source": [
    "import mylib1\n",
    "\n",
    "i = mylib1.multiply(20,5)\n",
    "print(i)\n",
    "\n",
    "i = mylib1.PI\n",
    "print(i)\n",
    "\n",
    "from mylib2 import add\n",
    "\n",
    "i =add(10,20)\n",
    "print(i)\n",
    "\n",
    "from mylib2 import * \n",
    "\n",
    "i = substract(20,10)\n",
    "print(i)\n",
    "\n",
    "\n",
    "print(PI)\n",
    "\n",
    "#전체를 불러올 경우 같은 변수명이 있으면 덮어쓸수 있음 \n",
    "PI = \"맛있는 파이\"\n",
    "print(PI)\n",
    "\n",
    "#모듈의 이름이 길 경우 줄여서 사용 가능\n",
    "from datetime import datetime as d\n",
    "today3 = d.today()\n",
    "print(today3)"
   ]
  },
  {
   "cell_type": "code",
   "execution_count": 40,
   "metadata": {},
   "outputs": [
    {
     "name": "stdout",
     "output_type": "stream",
     "text": [
      "7\n",
      "0.6213380356990201\n",
      "5.6631081872688345\n",
      "7\n",
      "1\n",
      "손오공\n"
     ]
    }
   ],
   "source": [
    "#random 모듈 사용 하기 \n",
    "\n",
    "import random\n",
    "\n",
    "i = random.randint(1,100)\n",
    "print(i)\n",
    "\n",
    "#0부터 1 사이의 임의의 float\n",
    "f = random.random()\n",
    "print(f)\n",
    "\n",
    "#1.0부터 36.5사이의 임의의 float\n",
    "f = random.uniform(1.0, 36.5)\n",
    "print(f)\n",
    "\n",
    "#1부터 10 사이의 임의의 수 (시작, 끝, 간격)\n",
    "i  = random.randrange(1,10,2)\n",
    "print(i)\n",
    "#0부터 9 사이의 임의의 정수\n",
    "i = random.randrange(10)\n",
    "print(i)\n",
    "\n",
    "#random.choice 함수\n",
    "x= [\"홍길동\", \"정우치\", \"손오공\"]\n",
    "print(random.choice(x))"
   ]
  },
  {
   "cell_type": "code",
   "execution_count": 51,
   "metadata": {},
   "outputs": [
    {
     "name": "stdout",
     "output_type": "stream",
     "text": [
      "나는 지금 1부터 100사이의 값중 하나를 생각해서, 그 숫자를 6회안에 맞추시오\n",
      "숫자를 맞혀 보세요 : 50\n",
      "50 숫자가 작습니다 5 만큼 기회남음\n",
      "숫자를 맞혀 보세요 : 40\n",
      "40 숫자가 작습니다 4 만큼 기회남음\n",
      "숫자를 맞혀 보세요 : 40\n",
      "40 숫자가 작습니다 3 만큼 기회남음\n",
      "숫자를 맞혀 보세요 : 40\n",
      "40 숫자가 작습니다 2 만큼 기회남음\n",
      "숫자를 맞혀 보세요 : 40\n",
      "40 숫자가 작습니다 1 만큼 기회남음\n",
      "숫자를 맞혀 보세요 : 40\n",
      "40 숫자가 작습니다 0 만큼 기회남음\n",
      "모든 기회를 다사용했습니다. \n",
      "게임을 진행하시겠습니까? (y/n)n\n",
      "꺼져\n"
     ]
    }
   ],
   "source": [
    "#Exam  임의의 랜덤 숫자 구하기 \n",
    "\n",
    "import random \n",
    "print(\"나는 지금 1부터 100사이의 값중 하나를 생각해서, 그 숫자를 6회안에 맞추시오\")\n",
    "\n",
    "j = random.randint(1,100)\n",
    "\n",
    "for i in range(1,7):\n",
    "    \n",
    "    x = input(\"숫자를 맞혀 보세요 : \")\n",
    "    num1 = int(x)\n",
    "    \n",
    "    if num1 == j:\n",
    "        print(\"정답\")\n",
    "        break\n",
    "    elif num1 > j :\n",
    "        print(num1 ,\"숫자가 더큽니다\" , 6-i,\"만큼 기회남음\")\n",
    "        \n",
    "    elif num1 < j :\n",
    "        print(num1 ,\"숫자가 작습니다\",6-i,\"만큼 기회남음\")\n",
    "    \n",
    "    if i == 6 :\n",
    "        print(\"모든 기회를 다사용했습니다. \")\n",
    "    \n",
    "        str = input(\"게임을 진행하시겠습니까? (y/n)\")\n",
    "    \n",
    "        if str != \"y\":\n",
    "            print(\"꺼져\")\n",
    "            break\n",
    "        \n",
    "    "
   ]
  },
  {
   "cell_type": "code",
   "execution_count": null,
   "metadata": {},
   "outputs": [],
   "source": []
  }
 ],
 "metadata": {
  "kernelspec": {
   "display_name": "Python 3",
   "language": "python",
   "name": "python3"
  },
  "language_info": {
   "codemirror_mode": {
    "name": "ipython",
    "version": 3
   },
   "file_extension": ".py",
   "mimetype": "text/x-python",
   "name": "python",
   "nbconvert_exporter": "python",
   "pygments_lexer": "ipython3",
   "version": "3.7.1"
  }
 },
 "nbformat": 4,
 "nbformat_minor": 4
}

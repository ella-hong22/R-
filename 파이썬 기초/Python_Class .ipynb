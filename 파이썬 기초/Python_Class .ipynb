{
 "cells": [
  {
   "cell_type": "code",
   "execution_count": 1,
   "metadata": {},
   "outputs": [],
   "source": [
    "#MyClass01\n",
    "\"\"\"\n",
    "클래스의 생성 : \n",
    "    - 클래스의 이름은 CapWords 방식으로\n",
    "    \"class 클래스명을 사용하여 정의\"\n",
    "\"\"\"\n",
    " \n",
    "class Calculator:\n",
    "    pass\n"
   ]
  },
  {
   "cell_type": "code",
   "execution_count": 8,
   "metadata": {},
   "outputs": [
    {
     "name": "stdout",
     "output_type": "stream",
     "text": [
      "5\n"
     ]
    }
   ],
   "source": [
    "#MyClass02\n",
    "\"\"\"\n",
    "클래스의 생성 : \n",
    "    메서드 밖에 존재하는 변수 \n",
    "    - 클래스 내외부에서 \" 클래스명.변수명\"으로 접근 \n",
    "\"\"\"\n",
    "\n",
    "class Calculator :\n",
    "    myNum = 0 #클레스 변수\n",
    "    \n",
    "    #메서드\n",
    "    def add(self, x,y) :\n",
    "        result = x+y\n",
    "        return result\n",
    "#객체 생성    \n",
    "cal1 = Calculator()\n",
    "\n",
    "#메서드 호출 \n",
    "num = cal1.add(2,3)\n",
    "print(num)\n",
    "\n",
    "\n",
    "# #클래스 변수 접근 \n",
    "# Calculator.myNum =5\n",
    "# print(Calculator.myNum)\n",
    "\n",
    "# print(cal1.myNum)"
   ]
  },
  {
   "cell_type": "code",
   "execution_count": 10,
   "metadata": {},
   "outputs": [
    {
     "name": "stdout",
     "output_type": "stream",
     "text": [
      "5\n",
      "6\n"
     ]
    }
   ],
   "source": [
    "#MyClass03\n",
    "\n",
    "\"\"\"\n",
    "인스턴스 변수 : 메서드 안에 정의되는 변수 \n",
    "-클래스 내부에서는 self. width 과 같이 \"self.\"을 사용하여 엑세스 \n",
    "-클래스 밖에서는 \" 객체변수, 인스턴스 변수\"와 같이 엑세스\n",
    "\n",
    "인스턴스 메서드는 인스턴스 변수에 엑세스할 수 있도록 \n",
    "메서드의 첫번째 파라미터에 항상 개게 자신을 의미하는 \"self 라는 파라미터를 갖는다.\"\n",
    "\"\"\"\n",
    "\n",
    "class Calculator :\n",
    "    myNum = 0 #클레스 변수\n",
    "    \n",
    "    #메서드\n",
    "    def add(self, x,y) :\n",
    "        #self.* : 인스턴스 변수 \n",
    "        self.x = x\n",
    "        self.y  =y\n",
    "        #파라미터로 들어온 값으로 계산 \n",
    "        result = x+y\n",
    "        return result\n",
    "    \n",
    "    def multiply(self):\n",
    "        #인스턴스 변수는 인스턴스 안의 함수들끼리 공유됨 \n",
    "        result = self.x * self.y\n",
    "        return result\n",
    "    \n",
    "cal1 = Calculator()\n",
    "num = cal1.add(2,3)\n",
    "print(num)\n",
    "\n",
    "num = cal1.multiply()\n",
    "print(num)"
   ]
  },
  {
   "cell_type": "code",
   "execution_count": 11,
   "metadata": {},
   "outputs": [
    {
     "name": "stdout",
     "output_type": "stream",
     "text": [
      "6\n"
     ]
    }
   ],
   "source": [
    "#MyClass04\n",
    "\n",
    "\"\"\"\n",
    "초기자 : 클래스로부터 객체를 만들 때 \n",
    "-인스턴스 변수를 초기화\n",
    "-객체의 초기상태를 만들기 위한 문장들을 실행 \n",
    "Python에서 클래스 생성자는 실제 런타임 엔진 내부에서 실행되는데,\n",
    "이생성자 실행 도중 클래스 안에 Initializer가 있는지 체크하여 \n",
    "만약 있ㅇ면 INitializer를 호출하여 객체의 변수 등을 초기화한다. \n",
    "\n",
    "\"\"\"\n",
    "\n",
    "class Rectangle :\n",
    "    #초기자(initializer)\n",
    "    def __init__(self):\n",
    "        self.width = 2\n",
    "        self.height = 3\n",
    "        \n",
    "    def area(self):\n",
    "        result = self.width * self.height\n",
    "        return result\n",
    "    \n",
    "rect1 = Rectangle()\n",
    "num  = rect1.area()\n",
    "print(num)"
   ]
  },
  {
   "cell_type": "code",
   "execution_count": 14,
   "metadata": {},
   "outputs": [
    {
     "name": "stdout",
     "output_type": "stream",
     "text": [
      "12\n"
     ]
    }
   ],
   "source": [
    "#MyClass05\n",
    "\n",
    "\"\"\"\n",
    "함수의 오버로딩은 지원되지 않는다. 결과적으로 덮어 쓴다. \n",
    "\n",
    "똑같은 함수명을 정의할 대 에러가 나는 것이 아니고,\n",
    "함수를 사용할때 파라미터 종류가 틀리다고 에러가 난다. \n",
    "\n",
    "\"\"\"\n",
    "\n",
    "class Rectangle :\n",
    "    \n",
    "    #초기자(initializer)\n",
    "    \n",
    "    def __init__(self) :\n",
    "        self.width = 2\n",
    "        self.height = 3 \n",
    "        \n",
    "    def __init__(self, width, height):\n",
    "        self.width = width\n",
    "        self.height = height\n",
    "        \n",
    "    def area(self):\n",
    "        result = self.width * self.height\n",
    "        return result\n",
    "    \n",
    "\n",
    "#rect1 = Rectangle()\n",
    "#num = rect1.area()\n",
    "#print(num)\n",
    "\n",
    "rect2  = Rectangle(3,4)\n",
    "num = rect2.area()\n",
    "print(num)"
   ]
  },
  {
   "cell_type": "code",
   "execution_count": 17,
   "metadata": {},
   "outputs": [
    {
     "name": "stdout",
     "output_type": "stream",
     "text": [
      "True\n"
     ]
    },
    {
     "ename": "AttributeError",
     "evalue": "'Rectangle' object has no attribute 'printCount'",
     "output_type": "error",
     "traceback": [
      "\u001b[1;31m---------------------------------------------------------------------------\u001b[0m",
      "\u001b[1;31mAttributeError\u001b[0m                            Traceback (most recent call last)",
      "\u001b[1;32m<ipython-input-17-4b1a5d336ac5>\u001b[0m in \u001b[0;36m<module>\u001b[1;34m\u001b[0m\n\u001b[0;32m     28\u001b[0m \u001b[0mrect1\u001b[0m \u001b[1;33m=\u001b[0m \u001b[0mRectangle\u001b[0m\u001b[1;33m(\u001b[0m\u001b[1;36m5\u001b[0m\u001b[1;33m,\u001b[0m\u001b[1;36m5\u001b[0m\u001b[1;33m)\u001b[0m\u001b[1;33m\u001b[0m\u001b[1;33m\u001b[0m\u001b[0m\n\u001b[0;32m     29\u001b[0m \u001b[0mrect2\u001b[0m \u001b[1;33m=\u001b[0m \u001b[0mRectangle\u001b[0m\u001b[1;33m(\u001b[0m\u001b[1;36m2\u001b[0m\u001b[1;33m,\u001b[0m\u001b[1;36m5\u001b[0m\u001b[1;33m)\u001b[0m\u001b[1;33m\u001b[0m\u001b[1;33m\u001b[0m\u001b[0m\n\u001b[1;32m---> 30\u001b[1;33m \u001b[0mrect1\u001b[0m\u001b[1;33m.\u001b[0m\u001b[0mprintCount\u001b[0m\u001b[1;33m(\u001b[0m\u001b[1;33m)\u001b[0m\u001b[1;33m\u001b[0m\u001b[1;33m\u001b[0m\u001b[0m\n\u001b[0m",
      "\u001b[1;31mAttributeError\u001b[0m: 'Rectangle' object has no attribute 'printCount'"
     ]
    }
   ],
   "source": [
    "#classClass06\n",
    "\n",
    "class Rectangle :\n",
    "    count = 0\n",
    "    \n",
    "    #초기자(initializer)\n",
    "    \n",
    "    def __init__(self, width, height):\n",
    "        self.width = width\n",
    "        self.height = height\n",
    "        Rectangle.count += 1\n",
    "        \n",
    "    def calcArea(self):\n",
    "        result = self.width * self.height\n",
    "        return area\n",
    "    \n",
    "    def isSquare(rectWidth, rectHeight):\n",
    "        return rectWidth == rectHeight\n",
    "    \n",
    "    #클래스 메서드\n",
    "    def printcount(cls):\n",
    "        print(cls.count)\n",
    "    \n",
    "#테스트 \n",
    "square = Rectangle.isSquare(5,5)\n",
    "print(square)\n",
    "\n",
    "rect1 = Rectangle(5,5)\n",
    "rect2 = Rectangle(2,5)\n",
    "rect1.printCount()"
   ]
  },
  {
   "cell_type": "code",
   "execution_count": null,
   "metadata": {},
   "outputs": [],
   "source": []
  }
 ],
 "metadata": {
  "kernelspec": {
   "display_name": "Python 3",
   "language": "python",
   "name": "python3"
  },
  "language_info": {
   "codemirror_mode": {
    "name": "ipython",
    "version": 3
   },
   "file_extension": ".py",
   "mimetype": "text/x-python",
   "name": "python",
   "nbconvert_exporter": "python",
   "pygments_lexer": "ipython3",
   "version": "3.7.1"
  }
 },
 "nbformat": 4,
 "nbformat_minor": 4
}

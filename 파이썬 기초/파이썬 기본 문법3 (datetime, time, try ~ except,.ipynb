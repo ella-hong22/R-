{
 "cells": [
  {
   "cell_type": "code",
   "execution_count": 1,
   "metadata": {},
   "outputs": [
    {
     "name": "stdout",
     "output_type": "stream",
     "text": [
      "2021-01-07\n",
      "2021\n",
      "1\n",
      "7\n",
      "2021-01-07 12:13:59.882162\n",
      "2021\n",
      "1\n",
      "7\n",
      "12\n",
      "13\n",
      "59\n",
      "882162\n"
     ]
    }
   ],
   "source": [
    "from datetime import date, time, datetime, timedelta\n",
    "\n",
    "#날짜다루기\n",
    "today = date.today()\n",
    "print(today)\n",
    "print(today.year)\n",
    "print(today.month)\n",
    "print(today.day)\n",
    "\n",
    "#시간 정보를 얻기 위해 별도로 time을 이용하지 않는다. \n",
    "date_time = datetime.now()\n",
    "print(date_time)\n",
    "print(date_time.year)\n",
    "print(date_time.month)\n",
    "print(date_time.day)\n",
    "print(date_time.hour)\n",
    "print(date_time.minute )\n",
    "print(date_time.second)\n",
    "print(date_time.microsecond )\n",
    "\n"
   ]
  },
  {
   "cell_type": "code",
   "execution_count": 4,
   "metadata": {},
   "outputs": [
    {
     "name": "stdout",
     "output_type": "stream",
     "text": [
      "yesterday :  2021-01-06\n",
      "tomorrow :  2021-01-08\n",
      "today - testerday  : 1 day, 0:00:00\n"
     ]
    }
   ],
   "source": [
    "#imedaelta 함수를 이용하여 새로운 날짜 계산하기\n",
    "#days 1 hours =8 weeks =2 \n",
    "\n",
    "one_day = timedelta(days =1)\n",
    "\n",
    "yesterday = today - one_day\n",
    "print(\"yesterday : \", yesterday)\n",
    "\n",
    "tomorrow = today + one_day\n",
    "print(\"tomorrow : \" , tomorrow)\n",
    "\n",
    "# 두 날짜 사이의 날짜 차이를 계산 \n",
    "date_diff = today -yesterday\n",
    "print(\"today - testerday  :\" , date_diff)\n",
    "\n",
    "\n"
   ]
  },
  {
   "cell_type": "code",
   "execution_count": 7,
   "metadata": {},
   "outputs": [
    {
     "name": "stdout",
     "output_type": "stream",
     "text": [
      "01/07/21\n",
      "Jan 07 2021\n",
      "January 07 2021\n",
      "2021-01 -07\n"
     ]
    }
   ],
   "source": [
    "#strftime 함수를 이용한 date객체를 특정 형식의 문자열로 만들기\n",
    "date_str = today.strftime('%m/%d/%y')\n",
    "print(date_str)\n",
    "print(today.strftime('%b %d %Y'))\n",
    "print(today.strftime('%B %d %Y'))\n",
    "print(today.strftime('%Y-%m-%d'))\n",
    "\n"
   ]
  },
  {
   "cell_type": "code",
   "execution_count": 10,
   "metadata": {},
   "outputs": [
    {
     "name": "stdout",
     "output_type": "stream",
     "text": [
      "2018-11-27 00:00:00\n",
      "2018-11-27\n"
     ]
    }
   ],
   "source": [
    "#문자열을 이용하여 date 객체 만들기\n",
    "date1 = \"2018-11-27\"\n",
    "date2 = datetime.strptime(date1, '%Y-%m-%d')\n",
    "print(date2)\n",
    "date3 = datetime.date(datetime.strptime(date1, '%Y-%m-%d'))\n",
    "print(date3)"
   ]
  },
  {
   "cell_type": "code",
   "execution_count": 16,
   "metadata": {},
   "outputs": [
    {
     "name": "stdout",
     "output_type": "stream",
     "text": [
      "1609991408.4636958\n",
      "time.struct_time(tm_year=2021, tm_mon=1, tm_mday=7, tm_hour=12, tm_min=50, tm_sec=8, tm_wday=3, tm_yday=7, tm_isdst=0)\n",
      "Thu Jan  7 12:50:08 2021\n"
     ]
    }
   ],
   "source": [
    "import time\n",
    "\n",
    "#time 모듈로 현재 시간 구하기 \n",
    "myTime1 = time.time()\n",
    "print(myTime1)\n",
    "\n",
    "#날짜와 시간 형태로 변환\n",
    "myTime2 = time.localtime(myTime1)\n",
    "print(myTime2)\n",
    "\n",
    "#날짜/시간 포맷에 맞춰서 출력하기\n",
    "\n",
    "def exam08(myTime3):\n",
    "    \n",
    "    myTime3 = time.strftime('%Y-%m-%d' , myTime2)\n",
    "    print(myTime3)\n",
    "\n",
    "myTime4 = time.strftime('%c', myTime2)\n",
    "print(myTime4)"
   ]
  },
  {
   "cell_type": "code",
   "execution_count": 18,
   "metadata": {},
   "outputs": [
    {
     "name": "stdout",
     "output_type": "stream",
     "text": [
      "엔터를 누르고 20초를 셉니다.\n",
      "20초 후에 엔터를 다시 누릅니다.\n",
      "실제 시간 :  21.586293697357178 초\n",
      "차이 :  1.5862936973571777 초 \n"
     ]
    }
   ],
   "source": [
    "import time\n",
    "\n",
    "input(\"엔터를 누르고 20초를 셉니다.\")\n",
    "start = time.time()\n",
    "\n",
    "input(\"20초 후에 엔터를 다시 누릅니다.\")\n",
    "end = time.time()\n",
    "\n",
    "\n",
    "et = end - start\n",
    "\n",
    "print(\"실제 시간 : \" ,et, \"초\")\n",
    "print(\"차이 : \", abs(et-20), \"초 \")"
   ]
  },
  {
   "cell_type": "code",
   "execution_count": 22,
   "metadata": {},
   "outputs": [
    {
     "name": "stdout",
     "output_type": "stream",
     "text": [
      "division by zero\n",
      "division by zero\n",
      "예외 발생 유무와 상관없이 무조건 실행\n",
      "division by zero\n"
     ]
    }
   ],
   "source": [
    "#try ~ except 예외처리\n",
    "\n",
    "def getMean(nList):\n",
    "    return sum(nList) / len(nList)\n",
    "\n",
    "my_list = [1,2,3,4,5] #my_list = [] \n",
    "\n",
    "#짧은 버전\n",
    "try:\n",
    "    print(getMean(my_list))\n",
    "except ZeroDivisionError as detail:\n",
    "    print(detail)\n",
    "    \n",
    "#기 버전 \n",
    "try :\n",
    "    result = getMean(my_list)\n",
    "except ZeroDivisionError as detail:\n",
    "    print(detail)\n",
    "else:\n",
    "    print(\"try-else : \", result)\n",
    "finally:\n",
    "    print(\"예외 발생 유무와 상관없이 무조건 실행\")\n",
    "    \n",
    "    \n",
    "#시스템 종료를 제외한 최상위 에러로 표현\n",
    "try:\n",
    "    print(getMean(my_list))\n",
    "except Exception as detail:\n",
    "    print(detail )"
   ]
  },
  {
   "cell_type": "code",
   "execution_count": 27,
   "metadata": {},
   "outputs": [
    {
     "name": "stdout",
     "output_type": "stream",
     "text": [
      "File Name : E:/Ella/RStudio/Data/애국가.txt\n",
      "동해 물과 백두산이 마르고 닳도록\n",
      "하느님이 보우하사 우리나라 만세.\n",
      "무궁화 삼천리 화려 강산\n",
      "대한 사람, 대한으로 길이 보전하세.\n",
      "남산 위에 저 소나무, 철갑을 두른 듯\n",
      "바람 서리 불변함은 우리 기상일세.\n",
      "무궁화 삼천리 화려 강산\n",
      "대한 사람, 대한으로 길이 보전하세.\n",
      "가을을 하늘 공활한데 높고 구름 없이\n",
      "밝은 달은 우리 가슴 일편단심일세.\n",
      "무궁화 삼천리 화려 강산\n",
      "대한 사람, 대한으로 길이 보전하세.\n",
      "이 기상과 이 맘으로 충성을 다하여\n",
      "괴로우나 즐거우나 나라 사랑하세.\n",
      "무궁화 삼천리 화려 강산\n",
      "대한 사람, 대한으로 길이 보전하세.\n"
     ]
    },
    {
     "ename": "KeyboardInterrupt",
     "evalue": "Interrupted by user",
     "output_type": "error",
     "traceback": [
      "\u001b[1;31m---------------------------------------------------------------------------\u001b[0m",
      "\u001b[1;31mKeyboardInterrupt\u001b[0m                         Traceback (most recent call last)",
      "\u001b[1;32m<ipython-input-27-f54afd2c4c6c>\u001b[0m in \u001b[0;36m<module>\u001b[1;34m\u001b[0m\n\u001b[0;32m     15\u001b[0m \u001b[1;33m\u001b[0m\u001b[0m\n\u001b[0;32m     16\u001b[0m \u001b[1;31m#하나의 텍스트 파일 읽기 (New version)\u001b[0m\u001b[1;33m\u001b[0m\u001b[1;33m\u001b[0m\u001b[1;33m\u001b[0m\u001b[0m\n\u001b[1;32m---> 17\u001b[1;33m \u001b[0minput_file\u001b[0m \u001b[1;33m=\u001b[0m \u001b[0minput\u001b[0m\u001b[1;33m(\u001b[0m\u001b[1;34m\"File Name:\"\u001b[0m\u001b[1;33m)\u001b[0m\u001b[1;33m\u001b[0m\u001b[1;33m\u001b[0m\u001b[0m\n\u001b[0m\u001b[0;32m     18\u001b[0m \u001b[1;33m\u001b[0m\u001b[0m\n\u001b[0;32m     19\u001b[0m \u001b[1;31m#with 문이 끝날 때 자동으로 파일 객체를 닫는다.\u001b[0m\u001b[1;33m\u001b[0m\u001b[1;33m\u001b[0m\u001b[1;33m\u001b[0m\u001b[0m\n",
      "\u001b[1;32m~\\anaconda3\\envs\\ck\\lib\\site-packages\\ipykernel\\kernelbase.py\u001b[0m in \u001b[0;36mraw_input\u001b[1;34m(self, prompt)\u001b[0m\n\u001b[0;32m    861\u001b[0m             \u001b[0mself\u001b[0m\u001b[1;33m.\u001b[0m\u001b[0m_parent_ident\u001b[0m\u001b[1;33m,\u001b[0m\u001b[1;33m\u001b[0m\u001b[1;33m\u001b[0m\u001b[0m\n\u001b[0;32m    862\u001b[0m             \u001b[0mself\u001b[0m\u001b[1;33m.\u001b[0m\u001b[0m_parent_header\u001b[0m\u001b[1;33m,\u001b[0m\u001b[1;33m\u001b[0m\u001b[1;33m\u001b[0m\u001b[0m\n\u001b[1;32m--> 863\u001b[1;33m             \u001b[0mpassword\u001b[0m\u001b[1;33m=\u001b[0m\u001b[1;32mFalse\u001b[0m\u001b[1;33m,\u001b[0m\u001b[1;33m\u001b[0m\u001b[1;33m\u001b[0m\u001b[0m\n\u001b[0m\u001b[0;32m    864\u001b[0m         )\n\u001b[0;32m    865\u001b[0m \u001b[1;33m\u001b[0m\u001b[0m\n",
      "\u001b[1;32m~\\anaconda3\\envs\\ck\\lib\\site-packages\\ipykernel\\kernelbase.py\u001b[0m in \u001b[0;36m_input_request\u001b[1;34m(self, prompt, ident, parent, password)\u001b[0m\n\u001b[0;32m    902\u001b[0m             \u001b[1;32mexcept\u001b[0m \u001b[0mKeyboardInterrupt\u001b[0m\u001b[1;33m:\u001b[0m\u001b[1;33m\u001b[0m\u001b[1;33m\u001b[0m\u001b[0m\n\u001b[0;32m    903\u001b[0m                 \u001b[1;31m# re-raise KeyboardInterrupt, to truncate traceback\u001b[0m\u001b[1;33m\u001b[0m\u001b[1;33m\u001b[0m\u001b[1;33m\u001b[0m\u001b[0m\n\u001b[1;32m--> 904\u001b[1;33m                 \u001b[1;32mraise\u001b[0m \u001b[0mKeyboardInterrupt\u001b[0m\u001b[1;33m(\u001b[0m\u001b[1;34m\"Interrupted by user\"\u001b[0m\u001b[1;33m)\u001b[0m \u001b[1;32mfrom\u001b[0m \u001b[1;32mNone\u001b[0m\u001b[1;33m\u001b[0m\u001b[1;33m\u001b[0m\u001b[0m\n\u001b[0m\u001b[0;32m    905\u001b[0m             \u001b[1;32mexcept\u001b[0m \u001b[0mException\u001b[0m \u001b[1;32mas\u001b[0m \u001b[0me\u001b[0m\u001b[1;33m:\u001b[0m\u001b[1;33m\u001b[0m\u001b[1;33m\u001b[0m\u001b[0m\n\u001b[0;32m    906\u001b[0m                 \u001b[0mself\u001b[0m\u001b[1;33m.\u001b[0m\u001b[0mlog\u001b[0m\u001b[1;33m.\u001b[0m\u001b[0mwarning\u001b[0m\u001b[1;33m(\u001b[0m\u001b[1;34m\"Invalid Message:\"\u001b[0m\u001b[1;33m,\u001b[0m \u001b[0mexc_info\u001b[0m\u001b[1;33m=\u001b[0m\u001b[1;32mTrue\u001b[0m\u001b[1;33m)\u001b[0m\u001b[1;33m\u001b[0m\u001b[1;33m\u001b[0m\u001b[0m\n",
      "\u001b[1;31mKeyboardInterrupt\u001b[0m: Interrupted by user"
     ]
    }
   ],
   "source": [
    "import sys\n",
    "import glob\n",
    "import os\n",
    "\n",
    "\n",
    "# input = open(\"input.txt\", \"rt\", encoding=\"utf-8\")\n",
    "# output = open(\"output.txt\", \"wt\", encoding=\"utf-8\")\n",
    "\n",
    "input_file = input(\"File Name : \")\n",
    "\n",
    "filereader = open(input_file, 'r' , encoding=\"utf-8\")\n",
    "for row in filereader : \n",
    "    print(row.strip())\n",
    "filereader.close()\n",
    "\n",
    "#하나의 텍스트 파일 읽기 (New version)\n",
    "input_file = input(\"File Name:\")\n",
    "\n",
    "#with 문이 끝날 때 자동으로 파일 객체를 닫는다.\n",
    "with open(input_file, 'r', newline = None) as filereader:\n",
    "    for row in filereader:\n",
    "        print(row.strip())\n",
    "        \n",
    "inputPath = input(\"Input Path : \")\n",
    "\n",
    "for input_file in glob.glob(os.path.join(inputPath, '*.txt')):\n",
    "    with open(input_file, 'r', newline = None) as filereader : \n",
    "        for row in filereader:\n",
    "            print(row.strip())\n",
    "            print(\"*\"*30 )"
   ]
  },
  {
   "cell_type": "code",
   "execution_count": 29,
   "metadata": {},
   "outputs": [
    {
     "ename": "KeyboardInterrupt",
     "evalue": "Interrupted by user",
     "output_type": "error",
     "traceback": [
      "\u001b[1;31m---------------------------------------------------------------------------\u001b[0m",
      "\u001b[1;31mKeyboardInterrupt\u001b[0m                         Traceback (most recent call last)",
      "\u001b[1;32m<ipython-input-29-9bc026ad3638>\u001b[0m in \u001b[0;36m<module>\u001b[1;34m\u001b[0m\n\u001b[0;32m      4\u001b[0m \u001b[0mmax_index\u001b[0m \u001b[1;33m=\u001b[0m \u001b[0mlen\u001b[0m\u001b[1;33m(\u001b[0m\u001b[0mmy_numbers\u001b[0m\u001b[1;33m)\u001b[0m\u001b[1;33m\u001b[0m\u001b[1;33m\u001b[0m\u001b[0m\n\u001b[0;32m      5\u001b[0m \u001b[1;33m\u001b[0m\u001b[0m\n\u001b[1;32m----> 6\u001b[1;33m \u001b[0moutput_file\u001b[0m \u001b[1;33m=\u001b[0m \u001b[0minput\u001b[0m\u001b[1;33m(\u001b[0m\u001b[1;34m\"File Name : \"\u001b[0m\u001b[1;33m)\u001b[0m\u001b[1;33m\u001b[0m\u001b[1;33m\u001b[0m\u001b[0m\n\u001b[0m\u001b[0;32m      7\u001b[0m \u001b[0mfilewriter\u001b[0m \u001b[1;33m=\u001b[0m \u001b[0mopen\u001b[0m\u001b[1;33m(\u001b[0m\u001b[0moutput_file\u001b[0m\u001b[1;33m,\u001b[0m \u001b[1;34m'w'\u001b[0m\u001b[1;33m)\u001b[0m\u001b[1;33m\u001b[0m\u001b[1;33m\u001b[0m\u001b[0m\n\u001b[0;32m      8\u001b[0m \u001b[1;33m\u001b[0m\u001b[0m\n",
      "\u001b[1;32m~\\anaconda3\\envs\\ck\\lib\\site-packages\\ipykernel\\kernelbase.py\u001b[0m in \u001b[0;36mraw_input\u001b[1;34m(self, prompt)\u001b[0m\n\u001b[0;32m    861\u001b[0m             \u001b[0mself\u001b[0m\u001b[1;33m.\u001b[0m\u001b[0m_parent_ident\u001b[0m\u001b[1;33m,\u001b[0m\u001b[1;33m\u001b[0m\u001b[1;33m\u001b[0m\u001b[0m\n\u001b[0;32m    862\u001b[0m             \u001b[0mself\u001b[0m\u001b[1;33m.\u001b[0m\u001b[0m_parent_header\u001b[0m\u001b[1;33m,\u001b[0m\u001b[1;33m\u001b[0m\u001b[1;33m\u001b[0m\u001b[0m\n\u001b[1;32m--> 863\u001b[1;33m             \u001b[0mpassword\u001b[0m\u001b[1;33m=\u001b[0m\u001b[1;32mFalse\u001b[0m\u001b[1;33m,\u001b[0m\u001b[1;33m\u001b[0m\u001b[1;33m\u001b[0m\u001b[0m\n\u001b[0m\u001b[0;32m    864\u001b[0m         )\n\u001b[0;32m    865\u001b[0m \u001b[1;33m\u001b[0m\u001b[0m\n",
      "\u001b[1;32m~\\anaconda3\\envs\\ck\\lib\\site-packages\\ipykernel\\kernelbase.py\u001b[0m in \u001b[0;36m_input_request\u001b[1;34m(self, prompt, ident, parent, password)\u001b[0m\n\u001b[0;32m    902\u001b[0m             \u001b[1;32mexcept\u001b[0m \u001b[0mKeyboardInterrupt\u001b[0m\u001b[1;33m:\u001b[0m\u001b[1;33m\u001b[0m\u001b[1;33m\u001b[0m\u001b[0m\n\u001b[0;32m    903\u001b[0m                 \u001b[1;31m# re-raise KeyboardInterrupt, to truncate traceback\u001b[0m\u001b[1;33m\u001b[0m\u001b[1;33m\u001b[0m\u001b[1;33m\u001b[0m\u001b[0m\n\u001b[1;32m--> 904\u001b[1;33m                 \u001b[1;32mraise\u001b[0m \u001b[0mKeyboardInterrupt\u001b[0m\u001b[1;33m(\u001b[0m\u001b[1;34m\"Interrupted by user\"\u001b[0m\u001b[1;33m)\u001b[0m \u001b[1;32mfrom\u001b[0m \u001b[1;32mNone\u001b[0m\u001b[1;33m\u001b[0m\u001b[1;33m\u001b[0m\u001b[0m\n\u001b[0m\u001b[0;32m    905\u001b[0m             \u001b[1;32mexcept\u001b[0m \u001b[0mException\u001b[0m \u001b[1;32mas\u001b[0m \u001b[0me\u001b[0m\u001b[1;33m:\u001b[0m\u001b[1;33m\u001b[0m\u001b[1;33m\u001b[0m\u001b[0m\n\u001b[0;32m    906\u001b[0m                 \u001b[0mself\u001b[0m\u001b[1;33m.\u001b[0m\u001b[0mlog\u001b[0m\u001b[1;33m.\u001b[0m\u001b[0mwarning\u001b[0m\u001b[1;33m(\u001b[0m\u001b[1;34m\"Invalid Message:\"\u001b[0m\u001b[1;33m,\u001b[0m \u001b[0mexc_info\u001b[0m\u001b[1;33m=\u001b[0m\u001b[1;32mTrue\u001b[0m\u001b[1;33m)\u001b[0m\u001b[1;33m\u001b[0m\u001b[1;33m\u001b[0m\u001b[0m\n",
      "\u001b[1;31mKeyboardInterrupt\u001b[0m: Interrupted by user"
     ]
    }
   ],
   "source": [
    "import sys\n",
    "\n",
    "my_numbers = [0,1,2,3,4,5,6,7,8,9]\n",
    "max_index = len(my_numbers)\n",
    "\n",
    "output_file = input(\"File Name : \")\n",
    "filewriter = open(output_file, 'w')\n",
    "\n",
    "for index_value in range(len(my_numbers)) :\n",
    "    if index_value  < (max_index -1) :\n",
    "        filewriter.write(str(my_numbers[index_value]) + ',')\n",
    "    else:\n",
    "        filewriter.write(str(my_numbers[index_value])+'\\n')\n",
    "filewriter.close()\n",
    "\n",
    "print(\"Output appended to file\")"
   ]
  },
  {
   "cell_type": "code",
   "execution_count": 30,
   "metadata": {},
   "outputs": [
    {
     "name": "stdout",
     "output_type": "stream",
     "text": [
      "0,1,2,3,4,5,6,7,8,9 <class 'str'>\n",
      "FIle Name : E:/Ella/RStudio/Data/str.txt\n",
      "output appended to file\n"
     ]
    }
   ],
   "source": [
    "#파일 작성하기 \n",
    "\n",
    "import sys\n",
    "\n",
    "my_numbers = [0,1,2,3,4,5,6,7,8,9]\n",
    "my_numbers = [\"0\",\"1\",\"2\",\"3\",\"4\",\"5\",\"6\",\"7\",\"8\",\"9\"]\n",
    "max_index = len(my_numbers)\n",
    "my_string = \",\".join(my_numbers)\n",
    "print(my_string, type(my_string))\n",
    "\n",
    "#output_file = sys.argv[1]\n",
    "output_file = input(\"FIle Name : \")\n",
    "filewriter = open(output_file, 'a')\n",
    "\n",
    "\n",
    "#filewriter.write(my_string + '/n' )\n",
    "\n",
    "filewriter.writelines(my_string + '/n ')\n",
    "filewriter.close()\n",
    "\n",
    "print(\"output appended to file\")"
   ]
  },
  {
   "cell_type": "code",
   "execution_count": null,
   "metadata": {},
   "outputs": [],
   "source": [
    "#퀴즈\n",
    "\n",
    "import time \n",
    "w  = [\"cat\", \"dog\", \"fox\", \"monkey\", \"mounse\", \"panda\",\"frog\",\"snake\",\n",
    "     \"wolf\",\"lion\"]\n",
    "for i in range(1,6):\n",
    "    ran1  = random.choice(w)\n",
    "    me = input(\"입력 :\")\n",
    "    if ran1 == me:\n",
    "        print(\"통과\")\n",
    "    elif ran1 !=me :\n",
    "        print(\"다시\")\n",
    "        return \n",
    "\n",
    "    \n",
    "\n"
   ]
  },
  {
   "cell_type": "code",
   "execution_count": 34,
   "metadata": {},
   "outputs": [],
   "source": [
    "#eval 함수\n",
    "\n",
    "import random\n",
    "\n",
    "def make_question():\n",
    "    a = random.randint(1,40)\n",
    "    b = random.randint(1,20)\n",
    "    op  = random.randint(1,3)\n",
    "    \n",
    "    #문자열 변수 q에 문제를 만든다.\n",
    "    #첫 번재 수를 q에 저장\n",
    "    \n",
    "    q = str(a) #a값을 문자열로 바꾸어 저장한다. \n",
    "    \n",
    "    #연산자를 추가한다.\n",
    "    if op== 1:\n",
    "        q=q + \" + \"\n",
    "    if op== 2:\n",
    "        q=q + \" - \"\n",
    "    if op== 3:\n",
    "        q=q + \" * \"\n",
    "        \n",
    "    #두 번째 숫자를 q에 저장\n",
    "    q = q + str(b)\n",
    "    \n",
    "    \n",
    "    #만들어진 문제를 돌려줌\n",
    "    return q \n",
    "\n",
    "    # 정답/ 오답 횟수를 저장할 변수 sc1 과 sc2를 0으로 초기화\n",
    "    \n",
    "    sc1 = 0\n",
    "    sc2 = 0\n",
    "    \n",
    "    for x in range(5):\n",
    "        q = make_question()\n",
    "        print(\"문제:\" +q, end = \"\")\n",
    "        ans = input(\"답:\")\n",
    "        r = int(ans)\n",
    "        \n",
    "        #컴퓨터가 계산한 결과인 eval(q)의 값과 사용자 입력한 값\n",
    "        if eval(q) == r:\n",
    "            print(\"정답입니다\")\n",
    "            sc1 = sc1 + 1\n",
    "        else: \n",
    "            print(\"오답입니다.\")\n",
    "            sc2 = sc2 +1\n",
    "            \n",
    "            print()\n",
    "            \n",
    "        print(\"정답 : \" ,sc1, \"오답:\" ,sc2)\n",
    "        \n",
    "        if (sc2 ==0 ):\n",
    "            print(\"모두 맞춤\")"
   ]
  }
 ],
 "metadata": {
  "kernelspec": {
   "display_name": "Python 3",
   "language": "python",
   "name": "python3"
  },
  "language_info": {
   "codemirror_mode": {
    "name": "ipython",
    "version": 3
   },
   "file_extension": ".py",
   "mimetype": "text/x-python",
   "name": "python",
   "nbconvert_exporter": "python",
   "pygments_lexer": "ipython3",
   "version": "3.7.1"
  }
 },
 "nbformat": 4,
 "nbformat_minor": 4
}

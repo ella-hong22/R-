{
 "cells": [
  {
   "cell_type": "code",
   "execution_count": 8,
   "metadata": {},
   "outputs": [
    {
     "name": "stdout",
     "output_type": "stream",
     "text": [
      "7566 JONES MANAGER 7839\n",
      "7698 BLAKE MANAGER 7839\n",
      "7782 CLARK MANAGER 7839\n",
      "Count : 3\n"
     ]
    },
    {
     "ename": "DatabaseError",
     "evalue": "ORA-00942: table or view does not exist",
     "output_type": "error",
     "traceback": [
      "\u001b[1;31m---------------------------------------------------------------------------\u001b[0m",
      "\u001b[1;31mDatabaseError\u001b[0m                             Traceback (most recent call last)",
      "\u001b[1;32m<ipython-input-8-4d50669afdbb>\u001b[0m in \u001b[0;36m<module>\u001b[1;34m\u001b[0m\n\u001b[0;32m     24\u001b[0m \u001b[1;31m#insert\u001b[0m\u001b[1;33m\u001b[0m\u001b[1;33m\u001b[0m\u001b[1;33m\u001b[0m\u001b[0m\n\u001b[0;32m     25\u001b[0m \u001b[0msql_insert\u001b[0m \u001b[1;33m=\u001b[0m \u001b[1;34m'insert into myuser values(:id, :name)'\u001b[0m\u001b[1;33m\u001b[0m\u001b[1;33m\u001b[0m\u001b[0m\n\u001b[1;32m---> 26\u001b[1;33m \u001b[0mcursor\u001b[0m\u001b[1;33m.\u001b[0m\u001b[0mexecute\u001b[0m\u001b[1;33m(\u001b[0m\u001b[0msql_insert\u001b[0m\u001b[1;33m,\u001b[0m \u001b[0mid\u001b[0m\u001b[1;33m=\u001b[0m\u001b[1;34m'test4'\u001b[0m\u001b[1;33m,\u001b[0m \u001b[0mname\u001b[0m \u001b[1;33m=\u001b[0m \u001b[1;34m'홍길동'\u001b[0m\u001b[1;33m)\u001b[0m\u001b[1;33m\u001b[0m\u001b[1;33m\u001b[0m\u001b[0m\n\u001b[0m\u001b[0;32m     27\u001b[0m \u001b[0mconn\u001b[0m\u001b[1;33m.\u001b[0m\u001b[0mcommit\u001b[0m\u001b[1;33m(\u001b[0m\u001b[1;33m)\u001b[0m\u001b[1;33m\u001b[0m\u001b[1;33m\u001b[0m\u001b[0m\n\u001b[0;32m     28\u001b[0m \u001b[1;33m\u001b[0m\u001b[0m\n",
      "\u001b[1;31mDatabaseError\u001b[0m: ORA-00942: table or view does not exist"
     ]
    }
   ],
   "source": [
    "import cx_Oracle as cx\n",
    "\n",
    "host_name  = 'localhost'\n",
    "oracle_port = 1521\n",
    "service_name = 'xe'\n",
    "dsn_tns = cx.makedsn(host_name, oracle_port, service_name)\n",
    "\n",
    "#데이터베이스 접속\n",
    "conn = cx.connect('scott', 'tiger',dsn_tns)\n",
    "\n",
    "cursor = conn.cursor()\n",
    "sql= 'select * from employee where job  = :job'\n",
    "cursor.execute(sql, job ='MANAGER')\n",
    "for rs in cursor : \n",
    "    print(str(rs[0]),str(rs[1]), str(rs[2]), str(rs[3]))\n",
    "    \n",
    "#select : Count\n",
    "cursor = conn.cursor()\n",
    "sql = 'select count(*) from employee where job = :job'\n",
    "cursor.execute(sql, job='MANAGER')\n",
    "cnt = cursor.fetchone()\n",
    "print(\"Count :\", cnt[0])\n",
    "\n",
    "#insert\n",
    "sql_insert = 'insert into myuser values(:id, :name)'\n",
    "cursor.execute(sql_insert, id='test4', name = '홍길동')\n",
    "conn.commit()\n",
    "\n",
    "cursor.close()\n",
    "conn.close()"
   ]
  },
  {
   "cell_type": "code",
   "execution_count": 2,
   "metadata": {},
   "outputs": [
    {
     "name": "stdout",
     "output_type": "stream",
     "text": [
      "Collecting cx_Oracle\n",
      "  Downloading cx_Oracle-8.1.0-cp37-cp37m-win_amd64.whl (210 kB)\n",
      "Installing collected packages: cx-Oracle\n",
      "Successfully installed cx-Oracle-8.1.0\n"
     ]
    }
   ],
   "source": [
    "!pip install cx_Oracle"
   ]
  }
 ],
 "metadata": {
  "kernelspec": {
   "display_name": "Python 3",
   "language": "python",
   "name": "python3"
  },
  "language_info": {
   "codemirror_mode": {
    "name": "ipython",
    "version": 3
   },
   "file_extension": ".py",
   "mimetype": "text/x-python",
   "name": "python",
   "nbconvert_exporter": "python",
   "pygments_lexer": "ipython3",
   "version": "3.7.1"
  }
 },
 "nbformat": 4,
 "nbformat_minor": 4
}
